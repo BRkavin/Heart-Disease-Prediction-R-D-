{
  "cells": [
    {
      "cell_type": "markdown",
      "metadata": {
        "id": "view-in-github",
        "colab_type": "text"
      },
      "source": [
        "<a href=\"https://colab.research.google.com/github/BRkavin/Heart-Disease-Prediction-R-D-/blob/main/R%26D_completed.ipynb\" target=\"_parent\"><img src=\"https://colab.research.google.com/assets/colab-badge.svg\" alt=\"Open In Colab\"/></a>"
      ]
    },
    {
      "cell_type": "markdown",
      "metadata": {
        "id": "8aue_pAJsuhI"
      },
      "source": [
        "**Import Libraries**"
      ]
    },
    {
      "cell_type": "code",
      "execution_count": null,
      "metadata": {
        "id": "O1kpjwqrtqgW"
      },
      "outputs": [],
      "source": [
        "import numpy as np\n",
        "import pandas as pd\n",
        "import seaborn as sns\n",
        "import matplotlib.pyplot as plt\n",
        "%matplotlib inline\n",
        "from sklearn.model_selection import train_test_split\n",
        "from sklearn.ensemble import RandomForestClassifier\n",
        "from sklearn.linear_model import LogisticRegression\n",
        "from sklearn.tree import DecisionTreeClassifier\n",
        "from sklearn.ensemble import GradientBoostingClassifier\n",
        "from sklearn.svm import SVC\n",
        "import xgboost as xgb\n",
        "from sklearn.naive_bayes import GaussianNB\n",
        "from xgboost import XGBClassifier\n",
        "from sklearn.feature_selection import SelectFromModel\n",
        "from sklearn.feature_selection import RFE\n",
        "from sklearn.metrics import classification_report\n",
        "from imblearn.over_sampling import SMOTE\n",
        "from sklearn.preprocessing import StandardScaler\n",
        "from sklearn import model_selection\n",
        "from sklearn.metrics import precision_score, recall_score, f1_score, accuracy_score\n",
        "from sklearn.metrics import roc_auc_score\n"
      ]
    },
    {
      "cell_type": "markdown",
      "metadata": {
        "id": "F07JizCeu9Dy"
      },
      "source": [
        "**Import dataset**"
      ]
    },
    {
      "cell_type": "code",
      "execution_count": null,
      "metadata": {
        "colab": {
          "base_uri": "https://localhost:8080/",
          "height": 206
        },
        "id": "w9O2E3C-uAHq",
        "outputId": "8f89ddbc-6b54-44c1-a667-896174dcc1c0"
      },
      "outputs": [
        {
          "output_type": "execute_result",
          "data": {
            "text/plain": [
              "    age  anaemia  creatinine_phosphokinase  diabetes  ejection_fraction  \\\n",
              "0  75.0        0                       582         0                 20   \n",
              "1  55.0        0                      7861         0                 38   \n",
              "2  65.0        0                       146         0                 20   \n",
              "3  50.0        1                       111         0                 20   \n",
              "4  65.0        1                       160         1                 20   \n",
              "\n",
              "   high_blood_pressure  platelets  serum_creatinine  serum_sodium  sex  \\\n",
              "0                    1  265000.00               1.9           130    1   \n",
              "1                    0  263358.03               1.1           136    1   \n",
              "2                    0  162000.00               1.3           129    1   \n",
              "3                    0  210000.00               1.9           137    1   \n",
              "4                    0  327000.00               2.7           116    0   \n",
              "\n",
              "   smoking  time  DEATH_EVENT  \n",
              "0        0     4            1  \n",
              "1        0     6            1  \n",
              "2        1     7            1  \n",
              "3        0     7            1  \n",
              "4        0     8            1  "
            ],
            "text/html": [
              "\n",
              "  <div id=\"df-515cf3b7-76a4-4563-9cad-36e6a65c165b\" class=\"colab-df-container\">\n",
              "    <div>\n",
              "<style scoped>\n",
              "    .dataframe tbody tr th:only-of-type {\n",
              "        vertical-align: middle;\n",
              "    }\n",
              "\n",
              "    .dataframe tbody tr th {\n",
              "        vertical-align: top;\n",
              "    }\n",
              "\n",
              "    .dataframe thead th {\n",
              "        text-align: right;\n",
              "    }\n",
              "</style>\n",
              "<table border=\"1\" class=\"dataframe\">\n",
              "  <thead>\n",
              "    <tr style=\"text-align: right;\">\n",
              "      <th></th>\n",
              "      <th>age</th>\n",
              "      <th>anaemia</th>\n",
              "      <th>creatinine_phosphokinase</th>\n",
              "      <th>diabetes</th>\n",
              "      <th>ejection_fraction</th>\n",
              "      <th>high_blood_pressure</th>\n",
              "      <th>platelets</th>\n",
              "      <th>serum_creatinine</th>\n",
              "      <th>serum_sodium</th>\n",
              "      <th>sex</th>\n",
              "      <th>smoking</th>\n",
              "      <th>time</th>\n",
              "      <th>DEATH_EVENT</th>\n",
              "    </tr>\n",
              "  </thead>\n",
              "  <tbody>\n",
              "    <tr>\n",
              "      <th>0</th>\n",
              "      <td>75.0</td>\n",
              "      <td>0</td>\n",
              "      <td>582</td>\n",
              "      <td>0</td>\n",
              "      <td>20</td>\n",
              "      <td>1</td>\n",
              "      <td>265000.00</td>\n",
              "      <td>1.9</td>\n",
              "      <td>130</td>\n",
              "      <td>1</td>\n",
              "      <td>0</td>\n",
              "      <td>4</td>\n",
              "      <td>1</td>\n",
              "    </tr>\n",
              "    <tr>\n",
              "      <th>1</th>\n",
              "      <td>55.0</td>\n",
              "      <td>0</td>\n",
              "      <td>7861</td>\n",
              "      <td>0</td>\n",
              "      <td>38</td>\n",
              "      <td>0</td>\n",
              "      <td>263358.03</td>\n",
              "      <td>1.1</td>\n",
              "      <td>136</td>\n",
              "      <td>1</td>\n",
              "      <td>0</td>\n",
              "      <td>6</td>\n",
              "      <td>1</td>\n",
              "    </tr>\n",
              "    <tr>\n",
              "      <th>2</th>\n",
              "      <td>65.0</td>\n",
              "      <td>0</td>\n",
              "      <td>146</td>\n",
              "      <td>0</td>\n",
              "      <td>20</td>\n",
              "      <td>0</td>\n",
              "      <td>162000.00</td>\n",
              "      <td>1.3</td>\n",
              "      <td>129</td>\n",
              "      <td>1</td>\n",
              "      <td>1</td>\n",
              "      <td>7</td>\n",
              "      <td>1</td>\n",
              "    </tr>\n",
              "    <tr>\n",
              "      <th>3</th>\n",
              "      <td>50.0</td>\n",
              "      <td>1</td>\n",
              "      <td>111</td>\n",
              "      <td>0</td>\n",
              "      <td>20</td>\n",
              "      <td>0</td>\n",
              "      <td>210000.00</td>\n",
              "      <td>1.9</td>\n",
              "      <td>137</td>\n",
              "      <td>1</td>\n",
              "      <td>0</td>\n",
              "      <td>7</td>\n",
              "      <td>1</td>\n",
              "    </tr>\n",
              "    <tr>\n",
              "      <th>4</th>\n",
              "      <td>65.0</td>\n",
              "      <td>1</td>\n",
              "      <td>160</td>\n",
              "      <td>1</td>\n",
              "      <td>20</td>\n",
              "      <td>0</td>\n",
              "      <td>327000.00</td>\n",
              "      <td>2.7</td>\n",
              "      <td>116</td>\n",
              "      <td>0</td>\n",
              "      <td>0</td>\n",
              "      <td>8</td>\n",
              "      <td>1</td>\n",
              "    </tr>\n",
              "  </tbody>\n",
              "</table>\n",
              "</div>\n",
              "    <div class=\"colab-df-buttons\">\n",
              "\n",
              "  <div class=\"colab-df-container\">\n",
              "    <button class=\"colab-df-convert\" onclick=\"convertToInteractive('df-515cf3b7-76a4-4563-9cad-36e6a65c165b')\"\n",
              "            title=\"Convert this dataframe to an interactive table.\"\n",
              "            style=\"display:none;\">\n",
              "\n",
              "  <svg xmlns=\"http://www.w3.org/2000/svg\" height=\"24px\" viewBox=\"0 -960 960 960\">\n",
              "    <path d=\"M120-120v-720h720v720H120Zm60-500h600v-160H180v160Zm220 220h160v-160H400v160Zm0 220h160v-160H400v160ZM180-400h160v-160H180v160Zm440 0h160v-160H620v160ZM180-180h160v-160H180v160Zm440 0h160v-160H620v160Z\"/>\n",
              "  </svg>\n",
              "    </button>\n",
              "\n",
              "  <style>\n",
              "    .colab-df-container {\n",
              "      display:flex;\n",
              "      gap: 12px;\n",
              "    }\n",
              "\n",
              "    .colab-df-convert {\n",
              "      background-color: #E8F0FE;\n",
              "      border: none;\n",
              "      border-radius: 50%;\n",
              "      cursor: pointer;\n",
              "      display: none;\n",
              "      fill: #1967D2;\n",
              "      height: 32px;\n",
              "      padding: 0 0 0 0;\n",
              "      width: 32px;\n",
              "    }\n",
              "\n",
              "    .colab-df-convert:hover {\n",
              "      background-color: #E2EBFA;\n",
              "      box-shadow: 0px 1px 2px rgba(60, 64, 67, 0.3), 0px 1px 3px 1px rgba(60, 64, 67, 0.15);\n",
              "      fill: #174EA6;\n",
              "    }\n",
              "\n",
              "    .colab-df-buttons div {\n",
              "      margin-bottom: 4px;\n",
              "    }\n",
              "\n",
              "    [theme=dark] .colab-df-convert {\n",
              "      background-color: #3B4455;\n",
              "      fill: #D2E3FC;\n",
              "    }\n",
              "\n",
              "    [theme=dark] .colab-df-convert:hover {\n",
              "      background-color: #434B5C;\n",
              "      box-shadow: 0px 1px 3px 1px rgba(0, 0, 0, 0.15);\n",
              "      filter: drop-shadow(0px 1px 2px rgba(0, 0, 0, 0.3));\n",
              "      fill: #FFFFFF;\n",
              "    }\n",
              "  </style>\n",
              "\n",
              "    <script>\n",
              "      const buttonEl =\n",
              "        document.querySelector('#df-515cf3b7-76a4-4563-9cad-36e6a65c165b button.colab-df-convert');\n",
              "      buttonEl.style.display =\n",
              "        google.colab.kernel.accessAllowed ? 'block' : 'none';\n",
              "\n",
              "      async function convertToInteractive(key) {\n",
              "        const element = document.querySelector('#df-515cf3b7-76a4-4563-9cad-36e6a65c165b');\n",
              "        const dataTable =\n",
              "          await google.colab.kernel.invokeFunction('convertToInteractive',\n",
              "                                                    [key], {});\n",
              "        if (!dataTable) return;\n",
              "\n",
              "        const docLinkHtml = 'Like what you see? Visit the ' +\n",
              "          '<a target=\"_blank\" href=https://colab.research.google.com/notebooks/data_table.ipynb>data table notebook</a>'\n",
              "          + ' to learn more about interactive tables.';\n",
              "        element.innerHTML = '';\n",
              "        dataTable['output_type'] = 'display_data';\n",
              "        await google.colab.output.renderOutput(dataTable, element);\n",
              "        const docLink = document.createElement('div');\n",
              "        docLink.innerHTML = docLinkHtml;\n",
              "        element.appendChild(docLink);\n",
              "      }\n",
              "    </script>\n",
              "  </div>\n",
              "\n",
              "\n",
              "<div id=\"df-5e413092-7caf-49dd-b8d4-9ac86c7f50dd\">\n",
              "  <button class=\"colab-df-quickchart\" onclick=\"quickchart('df-5e413092-7caf-49dd-b8d4-9ac86c7f50dd')\"\n",
              "            title=\"Suggest charts.\"\n",
              "            style=\"display:none;\">\n",
              "\n",
              "<svg xmlns=\"http://www.w3.org/2000/svg\" height=\"24px\"viewBox=\"0 0 24 24\"\n",
              "     width=\"24px\">\n",
              "    <g>\n",
              "        <path d=\"M19 3H5c-1.1 0-2 .9-2 2v14c0 1.1.9 2 2 2h14c1.1 0 2-.9 2-2V5c0-1.1-.9-2-2-2zM9 17H7v-7h2v7zm4 0h-2V7h2v10zm4 0h-2v-4h2v4z\"/>\n",
              "    </g>\n",
              "</svg>\n",
              "  </button>\n",
              "\n",
              "<style>\n",
              "  .colab-df-quickchart {\n",
              "      --bg-color: #E8F0FE;\n",
              "      --fill-color: #1967D2;\n",
              "      --hover-bg-color: #E2EBFA;\n",
              "      --hover-fill-color: #174EA6;\n",
              "      --disabled-fill-color: #AAA;\n",
              "      --disabled-bg-color: #DDD;\n",
              "  }\n",
              "\n",
              "  [theme=dark] .colab-df-quickchart {\n",
              "      --bg-color: #3B4455;\n",
              "      --fill-color: #D2E3FC;\n",
              "      --hover-bg-color: #434B5C;\n",
              "      --hover-fill-color: #FFFFFF;\n",
              "      --disabled-bg-color: #3B4455;\n",
              "      --disabled-fill-color: #666;\n",
              "  }\n",
              "\n",
              "  .colab-df-quickchart {\n",
              "    background-color: var(--bg-color);\n",
              "    border: none;\n",
              "    border-radius: 50%;\n",
              "    cursor: pointer;\n",
              "    display: none;\n",
              "    fill: var(--fill-color);\n",
              "    height: 32px;\n",
              "    padding: 0;\n",
              "    width: 32px;\n",
              "  }\n",
              "\n",
              "  .colab-df-quickchart:hover {\n",
              "    background-color: var(--hover-bg-color);\n",
              "    box-shadow: 0 1px 2px rgba(60, 64, 67, 0.3), 0 1px 3px 1px rgba(60, 64, 67, 0.15);\n",
              "    fill: var(--button-hover-fill-color);\n",
              "  }\n",
              "\n",
              "  .colab-df-quickchart-complete:disabled,\n",
              "  .colab-df-quickchart-complete:disabled:hover {\n",
              "    background-color: var(--disabled-bg-color);\n",
              "    fill: var(--disabled-fill-color);\n",
              "    box-shadow: none;\n",
              "  }\n",
              "\n",
              "  .colab-df-spinner {\n",
              "    border: 2px solid var(--fill-color);\n",
              "    border-color: transparent;\n",
              "    border-bottom-color: var(--fill-color);\n",
              "    animation:\n",
              "      spin 1s steps(1) infinite;\n",
              "  }\n",
              "\n",
              "  @keyframes spin {\n",
              "    0% {\n",
              "      border-color: transparent;\n",
              "      border-bottom-color: var(--fill-color);\n",
              "      border-left-color: var(--fill-color);\n",
              "    }\n",
              "    20% {\n",
              "      border-color: transparent;\n",
              "      border-left-color: var(--fill-color);\n",
              "      border-top-color: var(--fill-color);\n",
              "    }\n",
              "    30% {\n",
              "      border-color: transparent;\n",
              "      border-left-color: var(--fill-color);\n",
              "      border-top-color: var(--fill-color);\n",
              "      border-right-color: var(--fill-color);\n",
              "    }\n",
              "    40% {\n",
              "      border-color: transparent;\n",
              "      border-right-color: var(--fill-color);\n",
              "      border-top-color: var(--fill-color);\n",
              "    }\n",
              "    60% {\n",
              "      border-color: transparent;\n",
              "      border-right-color: var(--fill-color);\n",
              "    }\n",
              "    80% {\n",
              "      border-color: transparent;\n",
              "      border-right-color: var(--fill-color);\n",
              "      border-bottom-color: var(--fill-color);\n",
              "    }\n",
              "    90% {\n",
              "      border-color: transparent;\n",
              "      border-bottom-color: var(--fill-color);\n",
              "    }\n",
              "  }\n",
              "</style>\n",
              "\n",
              "  <script>\n",
              "    async function quickchart(key) {\n",
              "      const quickchartButtonEl =\n",
              "        document.querySelector('#' + key + ' button');\n",
              "      quickchartButtonEl.disabled = true;  // To prevent multiple clicks.\n",
              "      quickchartButtonEl.classList.add('colab-df-spinner');\n",
              "      try {\n",
              "        const charts = await google.colab.kernel.invokeFunction(\n",
              "            'suggestCharts', [key], {});\n",
              "      } catch (error) {\n",
              "        console.error('Error during call to suggestCharts:', error);\n",
              "      }\n",
              "      quickchartButtonEl.classList.remove('colab-df-spinner');\n",
              "      quickchartButtonEl.classList.add('colab-df-quickchart-complete');\n",
              "    }\n",
              "    (() => {\n",
              "      let quickchartButtonEl =\n",
              "        document.querySelector('#df-5e413092-7caf-49dd-b8d4-9ac86c7f50dd button');\n",
              "      quickchartButtonEl.style.display =\n",
              "        google.colab.kernel.accessAllowed ? 'block' : 'none';\n",
              "    })();\n",
              "  </script>\n",
              "</div>\n",
              "    </div>\n",
              "  </div>\n"
            ]
          },
          "metadata": {},
          "execution_count": 3
        }
      ],
      "source": [
        "df = pd.read_csv('hearts.csv')\n",
        "df.head()"
      ]
    },
    {
      "cell_type": "markdown",
      "metadata": {
        "id": "fiyyd9nO9G7j"
      },
      "source": [
        "**DATA PREPROCESSING**"
      ]
    },
    {
      "cell_type": "code",
      "execution_count": null,
      "metadata": {
        "colab": {
          "base_uri": "https://localhost:8080/",
          "height": 423
        },
        "id": "j6j9NBXr9AR1",
        "outputId": "ec5b1957-9f63-4c0e-8b4d-1877280da076"
      },
      "outputs": [
        {
          "output_type": "execute_result",
          "data": {
            "text/plain": [
              "       age  anaemia  creatinine_phosphokinase  diabetes  ejection_fraction  \\\n",
              "0    False    False                     False     False              False   \n",
              "1    False    False                     False     False              False   \n",
              "2    False    False                     False     False              False   \n",
              "3    False    False                     False     False              False   \n",
              "4    False    False                     False     False              False   \n",
              "..     ...      ...                       ...       ...                ...   \n",
              "294  False    False                     False     False              False   \n",
              "295  False    False                     False     False              False   \n",
              "296  False    False                     False     False              False   \n",
              "297  False    False                     False     False              False   \n",
              "298  False    False                     False     False              False   \n",
              "\n",
              "     high_blood_pressure  platelets  serum_creatinine  serum_sodium    sex  \\\n",
              "0                  False      False             False         False  False   \n",
              "1                  False      False             False         False  False   \n",
              "2                  False      False             False         False  False   \n",
              "3                  False      False             False         False  False   \n",
              "4                  False      False             False         False  False   \n",
              "..                   ...        ...               ...           ...    ...   \n",
              "294                False      False             False         False  False   \n",
              "295                False      False             False         False  False   \n",
              "296                False      False             False         False  False   \n",
              "297                False      False             False         False  False   \n",
              "298                False      False             False         False  False   \n",
              "\n",
              "     smoking   time  DEATH_EVENT  \n",
              "0      False  False        False  \n",
              "1      False  False        False  \n",
              "2      False  False        False  \n",
              "3      False  False        False  \n",
              "4      False  False        False  \n",
              "..       ...    ...          ...  \n",
              "294    False  False        False  \n",
              "295    False  False        False  \n",
              "296    False  False        False  \n",
              "297    False  False        False  \n",
              "298    False  False        False  \n",
              "\n",
              "[299 rows x 13 columns]"
            ],
            "text/html": [
              "\n",
              "  <div id=\"df-bb3c9856-25f1-4552-9264-51fcf0ec150d\" class=\"colab-df-container\">\n",
              "    <div>\n",
              "<style scoped>\n",
              "    .dataframe tbody tr th:only-of-type {\n",
              "        vertical-align: middle;\n",
              "    }\n",
              "\n",
              "    .dataframe tbody tr th {\n",
              "        vertical-align: top;\n",
              "    }\n",
              "\n",
              "    .dataframe thead th {\n",
              "        text-align: right;\n",
              "    }\n",
              "</style>\n",
              "<table border=\"1\" class=\"dataframe\">\n",
              "  <thead>\n",
              "    <tr style=\"text-align: right;\">\n",
              "      <th></th>\n",
              "      <th>age</th>\n",
              "      <th>anaemia</th>\n",
              "      <th>creatinine_phosphokinase</th>\n",
              "      <th>diabetes</th>\n",
              "      <th>ejection_fraction</th>\n",
              "      <th>high_blood_pressure</th>\n",
              "      <th>platelets</th>\n",
              "      <th>serum_creatinine</th>\n",
              "      <th>serum_sodium</th>\n",
              "      <th>sex</th>\n",
              "      <th>smoking</th>\n",
              "      <th>time</th>\n",
              "      <th>DEATH_EVENT</th>\n",
              "    </tr>\n",
              "  </thead>\n",
              "  <tbody>\n",
              "    <tr>\n",
              "      <th>0</th>\n",
              "      <td>False</td>\n",
              "      <td>False</td>\n",
              "      <td>False</td>\n",
              "      <td>False</td>\n",
              "      <td>False</td>\n",
              "      <td>False</td>\n",
              "      <td>False</td>\n",
              "      <td>False</td>\n",
              "      <td>False</td>\n",
              "      <td>False</td>\n",
              "      <td>False</td>\n",
              "      <td>False</td>\n",
              "      <td>False</td>\n",
              "    </tr>\n",
              "    <tr>\n",
              "      <th>1</th>\n",
              "      <td>False</td>\n",
              "      <td>False</td>\n",
              "      <td>False</td>\n",
              "      <td>False</td>\n",
              "      <td>False</td>\n",
              "      <td>False</td>\n",
              "      <td>False</td>\n",
              "      <td>False</td>\n",
              "      <td>False</td>\n",
              "      <td>False</td>\n",
              "      <td>False</td>\n",
              "      <td>False</td>\n",
              "      <td>False</td>\n",
              "    </tr>\n",
              "    <tr>\n",
              "      <th>2</th>\n",
              "      <td>False</td>\n",
              "      <td>False</td>\n",
              "      <td>False</td>\n",
              "      <td>False</td>\n",
              "      <td>False</td>\n",
              "      <td>False</td>\n",
              "      <td>False</td>\n",
              "      <td>False</td>\n",
              "      <td>False</td>\n",
              "      <td>False</td>\n",
              "      <td>False</td>\n",
              "      <td>False</td>\n",
              "      <td>False</td>\n",
              "    </tr>\n",
              "    <tr>\n",
              "      <th>3</th>\n",
              "      <td>False</td>\n",
              "      <td>False</td>\n",
              "      <td>False</td>\n",
              "      <td>False</td>\n",
              "      <td>False</td>\n",
              "      <td>False</td>\n",
              "      <td>False</td>\n",
              "      <td>False</td>\n",
              "      <td>False</td>\n",
              "      <td>False</td>\n",
              "      <td>False</td>\n",
              "      <td>False</td>\n",
              "      <td>False</td>\n",
              "    </tr>\n",
              "    <tr>\n",
              "      <th>4</th>\n",
              "      <td>False</td>\n",
              "      <td>False</td>\n",
              "      <td>False</td>\n",
              "      <td>False</td>\n",
              "      <td>False</td>\n",
              "      <td>False</td>\n",
              "      <td>False</td>\n",
              "      <td>False</td>\n",
              "      <td>False</td>\n",
              "      <td>False</td>\n",
              "      <td>False</td>\n",
              "      <td>False</td>\n",
              "      <td>False</td>\n",
              "    </tr>\n",
              "    <tr>\n",
              "      <th>...</th>\n",
              "      <td>...</td>\n",
              "      <td>...</td>\n",
              "      <td>...</td>\n",
              "      <td>...</td>\n",
              "      <td>...</td>\n",
              "      <td>...</td>\n",
              "      <td>...</td>\n",
              "      <td>...</td>\n",
              "      <td>...</td>\n",
              "      <td>...</td>\n",
              "      <td>...</td>\n",
              "      <td>...</td>\n",
              "      <td>...</td>\n",
              "    </tr>\n",
              "    <tr>\n",
              "      <th>294</th>\n",
              "      <td>False</td>\n",
              "      <td>False</td>\n",
              "      <td>False</td>\n",
              "      <td>False</td>\n",
              "      <td>False</td>\n",
              "      <td>False</td>\n",
              "      <td>False</td>\n",
              "      <td>False</td>\n",
              "      <td>False</td>\n",
              "      <td>False</td>\n",
              "      <td>False</td>\n",
              "      <td>False</td>\n",
              "      <td>False</td>\n",
              "    </tr>\n",
              "    <tr>\n",
              "      <th>295</th>\n",
              "      <td>False</td>\n",
              "      <td>False</td>\n",
              "      <td>False</td>\n",
              "      <td>False</td>\n",
              "      <td>False</td>\n",
              "      <td>False</td>\n",
              "      <td>False</td>\n",
              "      <td>False</td>\n",
              "      <td>False</td>\n",
              "      <td>False</td>\n",
              "      <td>False</td>\n",
              "      <td>False</td>\n",
              "      <td>False</td>\n",
              "    </tr>\n",
              "    <tr>\n",
              "      <th>296</th>\n",
              "      <td>False</td>\n",
              "      <td>False</td>\n",
              "      <td>False</td>\n",
              "      <td>False</td>\n",
              "      <td>False</td>\n",
              "      <td>False</td>\n",
              "      <td>False</td>\n",
              "      <td>False</td>\n",
              "      <td>False</td>\n",
              "      <td>False</td>\n",
              "      <td>False</td>\n",
              "      <td>False</td>\n",
              "      <td>False</td>\n",
              "    </tr>\n",
              "    <tr>\n",
              "      <th>297</th>\n",
              "      <td>False</td>\n",
              "      <td>False</td>\n",
              "      <td>False</td>\n",
              "      <td>False</td>\n",
              "      <td>False</td>\n",
              "      <td>False</td>\n",
              "      <td>False</td>\n",
              "      <td>False</td>\n",
              "      <td>False</td>\n",
              "      <td>False</td>\n",
              "      <td>False</td>\n",
              "      <td>False</td>\n",
              "      <td>False</td>\n",
              "    </tr>\n",
              "    <tr>\n",
              "      <th>298</th>\n",
              "      <td>False</td>\n",
              "      <td>False</td>\n",
              "      <td>False</td>\n",
              "      <td>False</td>\n",
              "      <td>False</td>\n",
              "      <td>False</td>\n",
              "      <td>False</td>\n",
              "      <td>False</td>\n",
              "      <td>False</td>\n",
              "      <td>False</td>\n",
              "      <td>False</td>\n",
              "      <td>False</td>\n",
              "      <td>False</td>\n",
              "    </tr>\n",
              "  </tbody>\n",
              "</table>\n",
              "<p>299 rows × 13 columns</p>\n",
              "</div>\n",
              "    <div class=\"colab-df-buttons\">\n",
              "\n",
              "  <div class=\"colab-df-container\">\n",
              "    <button class=\"colab-df-convert\" onclick=\"convertToInteractive('df-bb3c9856-25f1-4552-9264-51fcf0ec150d')\"\n",
              "            title=\"Convert this dataframe to an interactive table.\"\n",
              "            style=\"display:none;\">\n",
              "\n",
              "  <svg xmlns=\"http://www.w3.org/2000/svg\" height=\"24px\" viewBox=\"0 -960 960 960\">\n",
              "    <path d=\"M120-120v-720h720v720H120Zm60-500h600v-160H180v160Zm220 220h160v-160H400v160Zm0 220h160v-160H400v160ZM180-400h160v-160H180v160Zm440 0h160v-160H620v160ZM180-180h160v-160H180v160Zm440 0h160v-160H620v160Z\"/>\n",
              "  </svg>\n",
              "    </button>\n",
              "\n",
              "  <style>\n",
              "    .colab-df-container {\n",
              "      display:flex;\n",
              "      gap: 12px;\n",
              "    }\n",
              "\n",
              "    .colab-df-convert {\n",
              "      background-color: #E8F0FE;\n",
              "      border: none;\n",
              "      border-radius: 50%;\n",
              "      cursor: pointer;\n",
              "      display: none;\n",
              "      fill: #1967D2;\n",
              "      height: 32px;\n",
              "      padding: 0 0 0 0;\n",
              "      width: 32px;\n",
              "    }\n",
              "\n",
              "    .colab-df-convert:hover {\n",
              "      background-color: #E2EBFA;\n",
              "      box-shadow: 0px 1px 2px rgba(60, 64, 67, 0.3), 0px 1px 3px 1px rgba(60, 64, 67, 0.15);\n",
              "      fill: #174EA6;\n",
              "    }\n",
              "\n",
              "    .colab-df-buttons div {\n",
              "      margin-bottom: 4px;\n",
              "    }\n",
              "\n",
              "    [theme=dark] .colab-df-convert {\n",
              "      background-color: #3B4455;\n",
              "      fill: #D2E3FC;\n",
              "    }\n",
              "\n",
              "    [theme=dark] .colab-df-convert:hover {\n",
              "      background-color: #434B5C;\n",
              "      box-shadow: 0px 1px 3px 1px rgba(0, 0, 0, 0.15);\n",
              "      filter: drop-shadow(0px 1px 2px rgba(0, 0, 0, 0.3));\n",
              "      fill: #FFFFFF;\n",
              "    }\n",
              "  </style>\n",
              "\n",
              "    <script>\n",
              "      const buttonEl =\n",
              "        document.querySelector('#df-bb3c9856-25f1-4552-9264-51fcf0ec150d button.colab-df-convert');\n",
              "      buttonEl.style.display =\n",
              "        google.colab.kernel.accessAllowed ? 'block' : 'none';\n",
              "\n",
              "      async function convertToInteractive(key) {\n",
              "        const element = document.querySelector('#df-bb3c9856-25f1-4552-9264-51fcf0ec150d');\n",
              "        const dataTable =\n",
              "          await google.colab.kernel.invokeFunction('convertToInteractive',\n",
              "                                                    [key], {});\n",
              "        if (!dataTable) return;\n",
              "\n",
              "        const docLinkHtml = 'Like what you see? Visit the ' +\n",
              "          '<a target=\"_blank\" href=https://colab.research.google.com/notebooks/data_table.ipynb>data table notebook</a>'\n",
              "          + ' to learn more about interactive tables.';\n",
              "        element.innerHTML = '';\n",
              "        dataTable['output_type'] = 'display_data';\n",
              "        await google.colab.output.renderOutput(dataTable, element);\n",
              "        const docLink = document.createElement('div');\n",
              "        docLink.innerHTML = docLinkHtml;\n",
              "        element.appendChild(docLink);\n",
              "      }\n",
              "    </script>\n",
              "  </div>\n",
              "\n",
              "\n",
              "<div id=\"df-2f68504a-7adf-4603-a4f0-6bcb717b2f7d\">\n",
              "  <button class=\"colab-df-quickchart\" onclick=\"quickchart('df-2f68504a-7adf-4603-a4f0-6bcb717b2f7d')\"\n",
              "            title=\"Suggest charts.\"\n",
              "            style=\"display:none;\">\n",
              "\n",
              "<svg xmlns=\"http://www.w3.org/2000/svg\" height=\"24px\"viewBox=\"0 0 24 24\"\n",
              "     width=\"24px\">\n",
              "    <g>\n",
              "        <path d=\"M19 3H5c-1.1 0-2 .9-2 2v14c0 1.1.9 2 2 2h14c1.1 0 2-.9 2-2V5c0-1.1-.9-2-2-2zM9 17H7v-7h2v7zm4 0h-2V7h2v10zm4 0h-2v-4h2v4z\"/>\n",
              "    </g>\n",
              "</svg>\n",
              "  </button>\n",
              "\n",
              "<style>\n",
              "  .colab-df-quickchart {\n",
              "      --bg-color: #E8F0FE;\n",
              "      --fill-color: #1967D2;\n",
              "      --hover-bg-color: #E2EBFA;\n",
              "      --hover-fill-color: #174EA6;\n",
              "      --disabled-fill-color: #AAA;\n",
              "      --disabled-bg-color: #DDD;\n",
              "  }\n",
              "\n",
              "  [theme=dark] .colab-df-quickchart {\n",
              "      --bg-color: #3B4455;\n",
              "      --fill-color: #D2E3FC;\n",
              "      --hover-bg-color: #434B5C;\n",
              "      --hover-fill-color: #FFFFFF;\n",
              "      --disabled-bg-color: #3B4455;\n",
              "      --disabled-fill-color: #666;\n",
              "  }\n",
              "\n",
              "  .colab-df-quickchart {\n",
              "    background-color: var(--bg-color);\n",
              "    border: none;\n",
              "    border-radius: 50%;\n",
              "    cursor: pointer;\n",
              "    display: none;\n",
              "    fill: var(--fill-color);\n",
              "    height: 32px;\n",
              "    padding: 0;\n",
              "    width: 32px;\n",
              "  }\n",
              "\n",
              "  .colab-df-quickchart:hover {\n",
              "    background-color: var(--hover-bg-color);\n",
              "    box-shadow: 0 1px 2px rgba(60, 64, 67, 0.3), 0 1px 3px 1px rgba(60, 64, 67, 0.15);\n",
              "    fill: var(--button-hover-fill-color);\n",
              "  }\n",
              "\n",
              "  .colab-df-quickchart-complete:disabled,\n",
              "  .colab-df-quickchart-complete:disabled:hover {\n",
              "    background-color: var(--disabled-bg-color);\n",
              "    fill: var(--disabled-fill-color);\n",
              "    box-shadow: none;\n",
              "  }\n",
              "\n",
              "  .colab-df-spinner {\n",
              "    border: 2px solid var(--fill-color);\n",
              "    border-color: transparent;\n",
              "    border-bottom-color: var(--fill-color);\n",
              "    animation:\n",
              "      spin 1s steps(1) infinite;\n",
              "  }\n",
              "\n",
              "  @keyframes spin {\n",
              "    0% {\n",
              "      border-color: transparent;\n",
              "      border-bottom-color: var(--fill-color);\n",
              "      border-left-color: var(--fill-color);\n",
              "    }\n",
              "    20% {\n",
              "      border-color: transparent;\n",
              "      border-left-color: var(--fill-color);\n",
              "      border-top-color: var(--fill-color);\n",
              "    }\n",
              "    30% {\n",
              "      border-color: transparent;\n",
              "      border-left-color: var(--fill-color);\n",
              "      border-top-color: var(--fill-color);\n",
              "      border-right-color: var(--fill-color);\n",
              "    }\n",
              "    40% {\n",
              "      border-color: transparent;\n",
              "      border-right-color: var(--fill-color);\n",
              "      border-top-color: var(--fill-color);\n",
              "    }\n",
              "    60% {\n",
              "      border-color: transparent;\n",
              "      border-right-color: var(--fill-color);\n",
              "    }\n",
              "    80% {\n",
              "      border-color: transparent;\n",
              "      border-right-color: var(--fill-color);\n",
              "      border-bottom-color: var(--fill-color);\n",
              "    }\n",
              "    90% {\n",
              "      border-color: transparent;\n",
              "      border-bottom-color: var(--fill-color);\n",
              "    }\n",
              "  }\n",
              "</style>\n",
              "\n",
              "  <script>\n",
              "    async function quickchart(key) {\n",
              "      const quickchartButtonEl =\n",
              "        document.querySelector('#' + key + ' button');\n",
              "      quickchartButtonEl.disabled = true;  // To prevent multiple clicks.\n",
              "      quickchartButtonEl.classList.add('colab-df-spinner');\n",
              "      try {\n",
              "        const charts = await google.colab.kernel.invokeFunction(\n",
              "            'suggestCharts', [key], {});\n",
              "      } catch (error) {\n",
              "        console.error('Error during call to suggestCharts:', error);\n",
              "      }\n",
              "      quickchartButtonEl.classList.remove('colab-df-spinner');\n",
              "      quickchartButtonEl.classList.add('colab-df-quickchart-complete');\n",
              "    }\n",
              "    (() => {\n",
              "      let quickchartButtonEl =\n",
              "        document.querySelector('#df-2f68504a-7adf-4603-a4f0-6bcb717b2f7d button');\n",
              "      quickchartButtonEl.style.display =\n",
              "        google.colab.kernel.accessAllowed ? 'block' : 'none';\n",
              "    })();\n",
              "  </script>\n",
              "</div>\n",
              "    </div>\n",
              "  </div>\n"
            ]
          },
          "metadata": {},
          "execution_count": 4
        }
      ],
      "source": [
        "df.isnull()"
      ]
    },
    {
      "cell_type": "markdown",
      "metadata": {
        "id": "cJla6whXYORm"
      },
      "source": [
        "**Analysis the information of attributes**"
      ]
    },
    {
      "cell_type": "code",
      "execution_count": null,
      "metadata": {
        "colab": {
          "base_uri": "https://localhost:8080/"
        },
        "id": "JQj3Q-IOYM4m",
        "outputId": "0664336f-be32-4c3f-81b1-910fa233a0ac"
      },
      "outputs": [
        {
          "output_type": "stream",
          "name": "stdout",
          "text": [
            "<class 'pandas.core.frame.DataFrame'>\n",
            "RangeIndex: 299 entries, 0 to 298\n",
            "Data columns (total 13 columns):\n",
            " #   Column                    Non-Null Count  Dtype  \n",
            "---  ------                    --------------  -----  \n",
            " 0   age                       299 non-null    float64\n",
            " 1   anaemia                   299 non-null    int64  \n",
            " 2   creatinine_phosphokinase  299 non-null    int64  \n",
            " 3   diabetes                  299 non-null    int64  \n",
            " 4   ejection_fraction         299 non-null    int64  \n",
            " 5   high_blood_pressure       299 non-null    int64  \n",
            " 6   platelets                 299 non-null    float64\n",
            " 7   serum_creatinine          299 non-null    float64\n",
            " 8   serum_sodium              299 non-null    int64  \n",
            " 9   sex                       299 non-null    int64  \n",
            " 10  smoking                   299 non-null    int64  \n",
            " 11  time                      299 non-null    int64  \n",
            " 12  DEATH_EVENT               299 non-null    int64  \n",
            "dtypes: float64(3), int64(10)\n",
            "memory usage: 30.5 KB\n"
          ]
        }
      ],
      "source": [
        "df.info()"
      ]
    },
    {
      "cell_type": "markdown",
      "metadata": {
        "id": "QYcQLvS_YjwQ"
      },
      "source": [
        "**show the imbalance of DEATH EVENT label**"
      ]
    },
    {
      "cell_type": "code",
      "execution_count": null,
      "metadata": {
        "colab": {
          "base_uri": "https://localhost:8080/",
          "height": 489
        },
        "id": "9Ghs9OcaYgil",
        "outputId": "a0311bf7-4a7a-46c8-f311-a7ee14417b18"
      },
      "outputs": [
        {
          "output_type": "execute_result",
          "data": {
            "text/plain": [
              "Text(0.5, 1.0, 'Distribution of DEATH_EVENT')"
            ]
          },
          "metadata": {},
          "execution_count": 6
        },
        {
          "output_type": "display_data",
          "data": {
            "text/plain": [
              "<Figure size 640x480 with 1 Axes>"
            ],
            "image/png": "[encoded data removed]"
          },
          "metadata": {}
        }
      ],
      "source": [
        "# sns.countplot(x=df[\"DEATH_EVENT\"])\n",
        "import seaborn as sns\n",
        "import matplotlib.pyplot as plt\n",
        "\n",
        "# Set a custom color palette (optional)\n",
        "sns.set_palette(\"Set2\")\n",
        "\n",
        "# Create the countplot\n",
        "sns.countplot(x=df[\"DEATH_EVENT\"])\n",
        "\n",
        "# Add labels and a title\n",
        "plt.xlabel(\"DEATH_EVENT\")\n",
        "plt.ylabel(\"Count\")\n",
        "plt.title(\"Distribution of DEATH_EVENT\")\n",
        "\n",
        "# Show the plot\n",
        "# plt.show()\n"
      ]
    },
    {
      "cell_type": "markdown",
      "metadata": {
        "id": "Sezfl3M38Wot"
      },
      "source": [
        "**Find the outliers and removing it from original dataset**"
      ]
    },
    {
      "cell_type": "code",
      "execution_count": null,
      "metadata": {
        "colab": {
          "base_uri": "https://localhost:8080/"
        },
        "id": "1yah8Y1G8Vbr",
        "outputId": "48c353e6-920c-43d9-c42a-d530b084d750"
      },
      "outputs": [
        {
          "output_type": "stream",
          "name": "stdout",
          "text": [
            "Number of outliers removed: 20\n",
            "Cleaned dataset shape: (280, 13)\n"
          ]
        }
      ],
      "source": [
        "import numpy as np\n",
        "import pandas as pd\n",
        "from scipy import stats\n",
        "# Define the columns you want to check for outliers (numerical features)\n",
        "numerical_columns = ['age','anaemia','creatinine_phosphokinase','diabetes','ejection_fraction','high_blood_pressure','platelets','serum_creatinine','serum_sodium','sex','time','smoking']\n",
        "\n",
        "# Calculate Z-scores for the numerical columns\n",
        "z_scores = np.abs(stats.zscore(df[numerical_columns]))\n",
        "\n",
        "# Define a threshold for identifying outliers (e.g., 3 standard deviations)\n",
        "threshold = 3.0\n",
        "\n",
        "# Find indices of outliers\n",
        "outlier_indices = np.where(z_scores > threshold)\n",
        "\n",
        "# Remove outliers from the dataset\n",
        "clean_data = df.drop(outlier_indices[0])\n",
        "\n",
        "# Display information about the removed outliers\n",
        "print(\"Number of outliers removed:\", len(outlier_indices[0]))\n",
        "print(\"Cleaned dataset shape:\", clean_data.shape)\n",
        "\n",
        "# Optionally, save the cleaned dataset to a new file\n",
        "clean_data.to_csv('cleaned_dataset.csv', index=False)"
      ]
    },
    {
      "cell_type": "markdown",
      "metadata": {
        "id": "8qL8_T8-pd1k"
      },
      "source": [
        "**EXISTING WORK DONE WITH ORIGINAL DATASET**"
      ]
    },
    {
      "cell_type": "code",
      "execution_count": null,
      "metadata": {
        "colab": {
          "base_uri": "https://localhost:8080/"
        },
        "id": "zLp1EG1EqWP8",
        "outputId": "7a3ada0e-78d2-41a1-d3d9-57a9ab50b142"
      },
      "outputs": [
        {
          "output_type": "execute_result",
          "data": {
            "text/plain": [
              "((239, 12), (60, 12))"
            ]
          },
          "metadata": {},
          "execution_count": 8
        }
      ],
      "source": [
        "X=X = df.drop(['DEATH_EVENT'], axis=1)\n",
        "y=df.DEATH_EVENT\n",
        "X_train, X_test, y_train, y_test=train_test_split(X,y,test_size=0.2,random_state=0)\n",
        "X_train.shape,X_test.shape\n"
      ]
    },
    {
      "cell_type": "code",
      "execution_count": null,
      "metadata": {
        "colab": {
          "base_uri": "https://localhost:8080/"
        },
        "id": "sQ-aiBHdpcu9",
        "outputId": "a0a73441-bff8-4d9d-dba3-0360819ab425"
      },
      "outputs": [
        {
          "output_type": "execute_result",
          "data": {
            "text/plain": [
              "array([ True, False,  True, False,  True, False, False,  True, False,\n",
              "       False, False,  True])"
            ]
          },
          "metadata": {},
          "execution_count": 9
        }
      ],
      "source": [
        "sel =SelectFromModel(RandomForestClassifier(n_estimators=100, random_state=0, n_jobs=1))\n",
        "sel.fit(X_train, y_train)\n",
        "sel.get_support()"
      ]
    },
    {
      "cell_type": "code",
      "execution_count": null,
      "metadata": {
        "colab": {
          "base_uri": "https://localhost:8080/"
        },
        "id": "5OLkv4BVpmnv",
        "outputId": "55b9bd83-7198-4f42-85c7-51fc9fd0c0a8"
      },
      "outputs": [
        {
          "output_type": "execute_result",
          "data": {
            "text/plain": [
              "12"
            ]
          },
          "metadata": {},
          "execution_count": 10
        }
      ],
      "source": [
        "\n",
        "len(sel.get_support())\n"
      ]
    },
    {
      "cell_type": "code",
      "execution_count": null,
      "metadata": {
        "colab": {
          "base_uri": "https://localhost:8080/"
        },
        "id": "fRdP3_YxpreT",
        "outputId": "7fe45ce9-514f-4dad-868c-79c1862d1b96"
      },
      "outputs": [
        {
          "output_type": "execute_result",
          "data": {
            "text/plain": [
              "Index(['age', 'creatinine_phosphokinase', 'ejection_fraction',\n",
              "       'serum_creatinine', 'time'],\n",
              "      dtype='object')"
            ]
          },
          "metadata": {},
          "execution_count": 11
        }
      ],
      "source": [
        "features=X_train.columns[sel.get_support()]\n",
        "features"
      ]
    },
    {
      "cell_type": "code",
      "execution_count": null,
      "metadata": {
        "colab": {
          "base_uri": "https://localhost:8080/"
        },
        "id": "gPXUdcSDqbfB",
        "outputId": "7bd50db1-66cc-4551-fdfc-0c893bf60429"
      },
      "outputs": [
        {
          "output_type": "execute_result",
          "data": {
            "text/plain": [
              "5"
            ]
          },
          "metadata": {},
          "execution_count": 12
        }
      ],
      "source": [
        "len(features)"
      ]
    },
    {
      "cell_type": "code",
      "execution_count": null,
      "metadata": {
        "id": "Zli-O1bMqrMI"
      },
      "outputs": [],
      "source": [
        "X_train_rfc =sel.transform(X_train)\n",
        "X_test_rfc =sel.transform(X_test)"
      ]
    },
    {
      "cell_type": "markdown",
      "metadata": {
        "id": "qHp7kJJXrASP"
      },
      "source": [
        "**RANDOM FOREST**"
      ]
    },
    {
      "cell_type": "code",
      "execution_count": null,
      "metadata": {
        "id": "C9GbEKgYqvUR"
      },
      "outputs": [],
      "source": [
        "def runex_randomforest(X_train, X_test, y_train, y_test):\n",
        " global rf_acc,rf_pre,rf_rec,rf_f1\n",
        " clf = RandomForestClassifier(n_estimators =100, random_state=0, n_jobs=1)\n",
        " clf.fit(X_train, y_train)\n",
        " y_pred =clf.predict(X_test)\n",
        " print('RandomForest Accuracy:',accuracy_score(y_test,y_pred))\n",
        " rf_acc = accuracy_score(y_test,y_pred)\n",
        " rf_pre = precision_score(y_test,y_pred)\n",
        " rf_rec = recall_score(y_test,y_pred)\n",
        " rf_f1 = f1_score(y_test,y_pred)"
      ]
    },
    {
      "cell_type": "markdown",
      "metadata": {
        "id": "KQvWSKzqrPzQ"
      },
      "source": [
        "**RANDOM FOREST ACCURACY  WITH ALL FEATURES**"
      ]
    },
    {
      "cell_type": "code",
      "execution_count": null,
      "metadata": {
        "colab": {
          "base_uri": "https://localhost:8080/"
        },
        "id": "nAeGwda9q-2f",
        "outputId": "35505e7f-140b-4dbe-efdb-b86a4879dcdc"
      },
      "outputs": [
        {
          "output_type": "stream",
          "name": "stdout",
          "text": [
            "RandomForest Accuracy: 0.85\n"
          ]
        }
      ],
      "source": [
        "runex_randomforest(X_train,X_test,y_train, y_test)"
      ]
    },
    {
      "cell_type": "markdown",
      "metadata": {
        "id": "nPpKo84TrX_s"
      },
      "source": [
        "**RANDOM FOREST USING SELECTIONMODEL OF RANDOM FOREST CLASSIFIER AND SMOTE**"
      ]
    },
    {
      "cell_type": "code",
      "execution_count": null,
      "metadata": {
        "colab": {
          "base_uri": "https://localhost:8080/"
        },
        "id": "w631DccNq2MF",
        "outputId": "797eba5a-98e3-4bd9-d9fd-2d9cef0bf5af"
      },
      "outputs": [
        {
          "output_type": "stream",
          "name": "stdout",
          "text": [
            "\n",
            "RandomForest Accuracy: 0.8333333333333334\n"
          ]
        }
      ],
      "source": [
        "smt=SMOTE()\n",
        "X_train_sm,y_train_sm=smt.fit_resample(X_train_rfc,y_train)\n",
        "print()\n",
        "runex_randomforest(X_train_sm,X_test_rfc,y_train_sm, y_test)"
      ]
    },
    {
      "cell_type": "markdown",
      "metadata": {
        "id": "ezn6jcI8rhrY"
      },
      "source": [
        "**LOGISTIC REGRESSION**"
      ]
    },
    {
      "cell_type": "code",
      "execution_count": null,
      "metadata": {
        "id": "h8aPJ7cFrbsa"
      },
      "outputs": [],
      "source": [
        "def runex_logisticRegression(X_train, X_test, y_train, y_test):\n",
        "   global lr_acc,lr_pre,lr_rec,lr_f1\n",
        "   logisticRegr = LogisticRegression()\n",
        "   logisticRegr.fit(X_train, y_train)\n",
        "   predictions = logisticRegr.predict(X_test)\n",
        "   print('Logisitc Accuracy:',round(accuracy_score(y_test,predictions),2))\n",
        "   #print(classification_report(y_test,predictions))\n",
        "   lr_pre =precision_score(y_test,predictions)\n",
        "   lr_rec = recall_score(y_test, predictions)\n",
        "   lr_acc= accuracy_score(y_test,predictions )\n",
        "   lr_f1 =f1_score(y_test, predictions)"
      ]
    },
    {
      "cell_type": "markdown",
      "metadata": {
        "id": "zNqDdxHqrzFn"
      },
      "source": [
        "**LOGISTIC REGRESSION ACCURACY  WITH ALL FEATURES**"
      ]
    },
    {
      "cell_type": "code",
      "execution_count": null,
      "metadata": {
        "colab": {
          "base_uri": "https://localhost:8080/"
        },
        "id": "b1J5uWtXrswS",
        "outputId": "d78b6ad8-0bbc-48b6-b98e-fc2111ccdbd6"
      },
      "outputs": [
        {
          "output_type": "stream",
          "name": "stdout",
          "text": [
            "Logisitc Accuracy: 0.73\n"
          ]
        }
      ],
      "source": [
        "runex_logisticRegression(X_train,X_test,y_train, y_test)"
      ]
    },
    {
      "cell_type": "markdown",
      "metadata": {
        "id": "74urgqpWrpAz"
      },
      "source": [
        "**LOGISTIC REGRESSION USING SELECTIONMODEL OF RANDOM FOREST CLASSIFIER AND SMOTE**"
      ]
    },
    {
      "cell_type": "code",
      "execution_count": null,
      "metadata": {
        "colab": {
          "base_uri": "https://localhost:8080/"
        },
        "id": "115J7FnBrk71",
        "outputId": "bcbf5d6b-0a6f-4409-f621-42f1c2fb5582"
      },
      "outputs": [
        {
          "output_type": "stream",
          "name": "stdout",
          "text": [
            "\n",
            "Logisitc Accuracy: 0.78\n"
          ]
        }
      ],
      "source": [
        "smt=SMOTE()\n",
        "X_train_sm,y_train_sm=smt.fit_resample(X_train_rfc,y_train)\n",
        "print()\n",
        "runex_logisticRegression(X_train_sm,X_test_rfc,y_train_sm, y_test)"
      ]
    },
    {
      "cell_type": "markdown",
      "metadata": {
        "id": "bPkU90Wfr8c1"
      },
      "source": [
        "**DECISION TREE**"
      ]
    },
    {
      "cell_type": "code",
      "execution_count": null,
      "metadata": {
        "id": "_Neu4fKUr3XO"
      },
      "outputs": [],
      "source": [
        "def runex_decisiontree(X_train, X_test, y_train, y_test):\n",
        "   global dt_pre, dt_acc,dt_rec,dt_f1\n",
        "   dt = DecisionTreeClassifier(random_state=42)\n",
        "   dt.fit(X_train, y_train)\n",
        "   pred = dt.predict(X_test)\n",
        "   print('Decision Accuracy:',round(accuracy_score(y_test,pred),2))\n",
        "  # print(classification_report(y_test,pred))\n",
        "   dt_pre =precision_score(y_test,pred)\n",
        "   dt_rec = recall_score(y_test, pred)\n",
        "   dt_acc= accuracy_score(y_test,pred )\n",
        "   dt_f1 =f1_score(y_test, pred)\n",
        "   #print(dt_precision)"
      ]
    },
    {
      "cell_type": "markdown",
      "metadata": {
        "id": "BAlApd9vsNtt"
      },
      "source": [
        "**DECISION TREE ACCURACY  WITH ALL FEATURES**"
      ]
    },
    {
      "cell_type": "code",
      "execution_count": null,
      "metadata": {
        "colab": {
          "base_uri": "https://localhost:8080/"
        },
        "id": "PF6up_tUsCXi",
        "outputId": "969fadd4-d20e-4d72-b002-3c9cedeb7227"
      },
      "outputs": [
        {
          "output_type": "stream",
          "name": "stdout",
          "text": [
            "Decision Accuracy: 0.78\n"
          ]
        }
      ],
      "source": [
        "runex_decisiontree(X_train,X_test,y_train, y_test)"
      ]
    },
    {
      "cell_type": "markdown",
      "metadata": {
        "id": "Rr2lS01MsJNx"
      },
      "source": [
        "**DECISION TREE USING SELECTIONMODEL OF RANDOM FOREST CLASSIFIER AND SMOTE**"
      ]
    },
    {
      "cell_type": "code",
      "execution_count": null,
      "metadata": {
        "colab": {
          "base_uri": "https://localhost:8080/"
        },
        "id": "2HT1vmpsr_aM",
        "outputId": "fbdc0f71-9cc6-45bb-d211-c5bf62571ec7"
      },
      "outputs": [
        {
          "output_type": "stream",
          "name": "stdout",
          "text": [
            "\n",
            "Decision Accuracy: 0.85\n"
          ]
        }
      ],
      "source": [
        "smt=SMOTE()\n",
        "X_train_sm,y_train_sm=smt.fit_resample(X_train_rfc,y_train)\n",
        "print()\n",
        "runex_decisiontree(X_train_sm,X_test_rfc,y_train_sm, y_test)"
      ]
    },
    {
      "cell_type": "markdown",
      "metadata": {
        "id": "Q7I2gvIasUMi"
      },
      "source": [
        "**SUPPORT VECTOR MACHINE**"
      ]
    },
    {
      "cell_type": "code",
      "execution_count": null,
      "metadata": {
        "id": "njvryhrOsRYi"
      },
      "outputs": [],
      "source": [
        "def runex_svm(X_train, X_test, y_train, y_test):\n",
        " global sv_Pre,sv_Rec,sv_acc, sv_fs\n",
        " svc=SVC()\n",
        " svc.fit(X_train,y_train)\n",
        " pred_svc =svc.predict(X_test)\n",
        " print('Logisitc Accuracy:',round(accuracy_score(y_test,pred_svc),2))\n",
        " #print(classification_report(y_test, pred_svc))\n",
        " sv_Pre = precision_score(y_test,pred_svc)\n",
        " sv_Rec = recall_score(y_test, pred_svc)\n",
        " sv_acc= accuracy_score(y_test,pred_svc )\n",
        " sv_fs =f1_score(y_test, pred_svc)\n",
        " #print(sv_pre)"
      ]
    },
    {
      "cell_type": "markdown",
      "metadata": {
        "id": "XN0rm3S5sjQm"
      },
      "source": [
        "**SVM ACCURACY  WITH ALL FEATURES**"
      ]
    },
    {
      "cell_type": "code",
      "execution_count": null,
      "metadata": {
        "colab": {
          "base_uri": "https://localhost:8080/"
        },
        "id": "Gx0exhn_sgrP",
        "outputId": "12b9ea7e-c4ec-444b-c446-bece36ac905a"
      },
      "outputs": [
        {
          "output_type": "stream",
          "name": "stdout",
          "text": [
            "Logisitc Accuracy: 0.62\n"
          ]
        },
        {
          "output_type": "stream",
          "name": "stderr",
          "text": [
            "/usr/local/lib/python3.10/dist-packages/sklearn/metrics/_classification.py:1344: UndefinedMetricWarning: Precision is ill-defined and being set to 0.0 due to no predicted samples. Use `zero_division` parameter to control this behavior.\n",
            "  _warn_prf(average, modifier, msg_start, len(result))\n"
          ]
        }
      ],
      "source": [
        "runex_svm(X_train,X_test,y_train, y_test)"
      ]
    },
    {
      "cell_type": "markdown",
      "metadata": {
        "id": "pClzlrdDsaYh"
      },
      "source": [
        "**SVM USING SELECTIONMODEL OF RANDOM FOREST CLASSIFIER AND SMOTE**"
      ]
    },
    {
      "cell_type": "code",
      "execution_count": null,
      "metadata": {
        "colab": {
          "base_uri": "https://localhost:8080/"
        },
        "id": "Z-foS4IhsXWS",
        "outputId": "d22f5006-26fc-47ff-fce0-e89b9d26e3c8"
      },
      "outputs": [
        {
          "output_type": "stream",
          "name": "stdout",
          "text": [
            "\n",
            "Logisitc Accuracy: 0.65\n"
          ]
        }
      ],
      "source": [
        "smt=SMOTE()\n",
        "X_train_sm,y_train_sm=smt.fit_resample(X_train_rfc,y_train)\n",
        "print()\n",
        "runex_svm(X_train_sm,X_test_rfc,y_train_sm, y_test)"
      ]
    },
    {
      "cell_type": "markdown",
      "metadata": {
        "id": "gPrd9m5dsx6I"
      },
      "source": [
        "**BAR CHART FOR PERFORMENCE OF EXISTING TECHNIQUE**"
      ]
    },
    {
      "cell_type": "code",
      "execution_count": null,
      "metadata": {
        "colab": {
          "base_uri": "https://localhost:8080/",
          "height": 607
        },
        "id": "zEpZSdMfsw-L",
        "outputId": "80596556-be7c-4a10-bb88-b68fcf67ae2a"
      },
      "outputs": [
        {
          "output_type": "display_data",
          "data": {
            "text/plain": [
              "<Figure size 1000x600 with 1 Axes>"
            ],
            "image/png": "[encoded data removed]"
          },
          "metadata": {}
        }
      ],
      "source": [
        "\n",
        "import matplotlib.pyplot as plt\n",
        "import pandas as pd\n",
        "\n",
        "# Create data\n",
        "data = [\n",
        " ['RF', rf_acc, rf_pre  ,rf_rec ,rf_f1 ],\n",
        "  ['LR', lr_acc, lr_pre  ,lr_rec ,lr_f1 ],\n",
        "  ['DT', dt_acc, dt_pre  ,dt_rec ,dt_f1 ],\n",
        "    ['SVM', sv_acc, sv_Pre  ,sv_Rec ,sv_fs ] ]\n",
        "\n",
        "df = pd.DataFrame(data, columns=['Algorithms', 'Accuracy', 'Precision', 'Recall', 'F1score'])\n",
        "\n",
        "# Set the figure size and create a bar chart\n",
        "plt.figure(figsize=(10, 6))\n",
        "\n",
        "# Define the number of bars and their positions\n",
        "num_bars = len(df)\n",
        "bar_width = 0.11\n",
        "index = range(num_bars)\n",
        "\n",
        "# Define colors for each metric\n",
        "colors = {'Accuracy': 'lightseagreen', 'Precision': 'coral', 'Recall': 'pink', 'F1score': 'yellowgreen'}\n",
        "\n",
        "# Loop through each metric and plot it\n",
        "for i, (metric, color) in enumerate(colors.items()):\n",
        "    plt.bar([pos + i * bar_width for pos in index], df[metric], width=bar_width, label=metric, color=color)\n",
        "\n",
        "# Customize the plot\n",
        "plt.xlabel('Algorithms')\n",
        "plt.ylabel('Accuracy (%)')\n",
        "plt.title('Performance of each  Classifiers from existing technique ')\n",
        "plt.xticks([pos + bar_width * 1.5 for pos in index], df['Algorithms'])\n",
        "plt.legend(loc='best')\n",
        "\n",
        "# Add data labels above each bar\n",
        "for i, metric in enumerate(colors.keys()):\n",
        "    for j, value in enumerate(df[metric]):\n",
        "        plt.text(j + i * bar_width, value + 0.02, f'{value:.2f}', ha='center', va='bottom', fontsize=8)\n",
        "\n",
        "plt.tight_layout()\n",
        "plt.show()\n"
      ]
    },
    {
      "cell_type": "markdown",
      "metadata": {
        "id": "0bCX9XA3tFQl"
      },
      "source": [
        "**IMPLEMENTATION FOR PROPOSED TECHNIQUE**"
      ]
    },
    {
      "cell_type": "markdown",
      "metadata": {
        "id": "f48UEzxBZ_bb"
      },
      "source": [
        "**New Dataset after removing  outlier  from original dataset**"
      ]
    },
    {
      "cell_type": "code",
      "execution_count": null,
      "metadata": {
        "colab": {
          "base_uri": "https://localhost:8080/",
          "height": 206
        },
        "id": "Ni63jtvXZ4E6",
        "outputId": "a52d3a48-6c6a-484c-8cb8-73efd0e57723"
      },
      "outputs": [
        {
          "output_type": "execute_result",
          "data": {
            "text/plain": [
              "    age  anaemia  creatinine_phosphokinase  diabetes  ejection_fraction  \\\n",
              "0  75.0        0                       582         0                 20   \n",
              "1  65.0        0                       146         0                 20   \n",
              "2  50.0        1                       111         0                 20   \n",
              "3  90.0        1                        47         0                 40   \n",
              "4  75.0        1                       246         0                 15   \n",
              "\n",
              "   high_blood_pressure  platelets  serum_creatinine  serum_sodium  sex  \\\n",
              "0                    1   265000.0               1.9           130    1   \n",
              "1                    0   162000.0               1.3           129    1   \n",
              "2                    0   210000.0               1.9           137    1   \n",
              "3                    1   204000.0               2.1           132    1   \n",
              "4                    0   127000.0               1.2           137    1   \n",
              "\n",
              "   smoking  time  DEATH_EVENT  \n",
              "0        0     4            1  \n",
              "1        1     7            1  \n",
              "2        0     7            1  \n",
              "3        1     8            1  \n",
              "4        0    10            1  "
            ],
            "text/html": [
              "\n",
              "  <div id=\"df-9a701f6b-c811-4d74-8857-d6c2478d8e74\" class=\"colab-df-container\">\n",
              "    <div>\n",
              "<style scoped>\n",
              "    .dataframe tbody tr th:only-of-type {\n",
              "        vertical-align: middle;\n",
              "    }\n",
              "\n",
              "    .dataframe tbody tr th {\n",
              "        vertical-align: top;\n",
              "    }\n",
              "\n",
              "    .dataframe thead th {\n",
              "        text-align: right;\n",
              "    }\n",
              "</style>\n",
              "<table border=\"1\" class=\"dataframe\">\n",
              "  <thead>\n",
              "    <tr style=\"text-align: right;\">\n",
              "      <th></th>\n",
              "      <th>age</th>\n",
              "      <th>anaemia</th>\n",
              "      <th>creatinine_phosphokinase</th>\n",
              "      <th>diabetes</th>\n",
              "      <th>ejection_fraction</th>\n",
              "      <th>high_blood_pressure</th>\n",
              "      <th>platelets</th>\n",
              "      <th>serum_creatinine</th>\n",
              "      <th>serum_sodium</th>\n",
              "      <th>sex</th>\n",
              "      <th>smoking</th>\n",
              "      <th>time</th>\n",
              "      <th>DEATH_EVENT</th>\n",
              "    </tr>\n",
              "  </thead>\n",
              "  <tbody>\n",
              "    <tr>\n",
              "      <th>0</th>\n",
              "      <td>75.0</td>\n",
              "      <td>0</td>\n",
              "      <td>582</td>\n",
              "      <td>0</td>\n",
              "      <td>20</td>\n",
              "      <td>1</td>\n",
              "      <td>265000.0</td>\n",
              "      <td>1.9</td>\n",
              "      <td>130</td>\n",
              "      <td>1</td>\n",
              "      <td>0</td>\n",
              "      <td>4</td>\n",
              "      <td>1</td>\n",
              "    </tr>\n",
              "    <tr>\n",
              "      <th>1</th>\n",
              "      <td>65.0</td>\n",
              "      <td>0</td>\n",
              "      <td>146</td>\n",
              "      <td>0</td>\n",
              "      <td>20</td>\n",
              "      <td>0</td>\n",
              "      <td>162000.0</td>\n",
              "      <td>1.3</td>\n",
              "      <td>129</td>\n",
              "      <td>1</td>\n",
              "      <td>1</td>\n",
              "      <td>7</td>\n",
              "      <td>1</td>\n",
              "    </tr>\n",
              "    <tr>\n",
              "      <th>2</th>\n",
              "      <td>50.0</td>\n",
              "      <td>1</td>\n",
              "      <td>111</td>\n",
              "      <td>0</td>\n",
              "      <td>20</td>\n",
              "      <td>0</td>\n",
              "      <td>210000.0</td>\n",
              "      <td>1.9</td>\n",
              "      <td>137</td>\n",
              "      <td>1</td>\n",
              "      <td>0</td>\n",
              "      <td>7</td>\n",
              "      <td>1</td>\n",
              "    </tr>\n",
              "    <tr>\n",
              "      <th>3</th>\n",
              "      <td>90.0</td>\n",
              "      <td>1</td>\n",
              "      <td>47</td>\n",
              "      <td>0</td>\n",
              "      <td>40</td>\n",
              "      <td>1</td>\n",
              "      <td>204000.0</td>\n",
              "      <td>2.1</td>\n",
              "      <td>132</td>\n",
              "      <td>1</td>\n",
              "      <td>1</td>\n",
              "      <td>8</td>\n",
              "      <td>1</td>\n",
              "    </tr>\n",
              "    <tr>\n",
              "      <th>4</th>\n",
              "      <td>75.0</td>\n",
              "      <td>1</td>\n",
              "      <td>246</td>\n",
              "      <td>0</td>\n",
              "      <td>15</td>\n",
              "      <td>0</td>\n",
              "      <td>127000.0</td>\n",
              "      <td>1.2</td>\n",
              "      <td>137</td>\n",
              "      <td>1</td>\n",
              "      <td>0</td>\n",
              "      <td>10</td>\n",
              "      <td>1</td>\n",
              "    </tr>\n",
              "  </tbody>\n",
              "</table>\n",
              "</div>\n",
              "    <div class=\"colab-df-buttons\">\n",
              "\n",
              "  <div class=\"colab-df-container\">\n",
              "    <button class=\"colab-df-convert\" onclick=\"convertToInteractive('df-9a701f6b-c811-4d74-8857-d6c2478d8e74')\"\n",
              "            title=\"Convert this dataframe to an interactive table.\"\n",
              "            style=\"display:none;\">\n",
              "\n",
              "  <svg xmlns=\"http://www.w3.org/2000/svg\" height=\"24px\" viewBox=\"0 -960 960 960\">\n",
              "    <path d=\"M120-120v-720h720v720H120Zm60-500h600v-160H180v160Zm220 220h160v-160H400v160Zm0 220h160v-160H400v160ZM180-400h160v-160H180v160Zm440 0h160v-160H620v160ZM180-180h160v-160H180v160Zm440 0h160v-160H620v160Z\"/>\n",
              "  </svg>\n",
              "    </button>\n",
              "\n",
              "  <style>\n",
              "    .colab-df-container {\n",
              "      display:flex;\n",
              "      gap: 12px;\n",
              "    }\n",
              "\n",
              "    .colab-df-convert {\n",
              "      background-color: #E8F0FE;\n",
              "      border: none;\n",
              "      border-radius: 50%;\n",
              "      cursor: pointer;\n",
              "      display: none;\n",
              "      fill: #1967D2;\n",
              "      height: 32px;\n",
              "      padding: 0 0 0 0;\n",
              "      width: 32px;\n",
              "    }\n",
              "\n",
              "    .colab-df-convert:hover {\n",
              "      background-color: #E2EBFA;\n",
              "      box-shadow: 0px 1px 2px rgba(60, 64, 67, 0.3), 0px 1px 3px 1px rgba(60, 64, 67, 0.15);\n",
              "      fill: #174EA6;\n",
              "    }\n",
              "\n",
              "    .colab-df-buttons div {\n",
              "      margin-bottom: 4px;\n",
              "    }\n",
              "\n",
              "    [theme=dark] .colab-df-convert {\n",
              "      background-color: #3B4455;\n",
              "      fill: #D2E3FC;\n",
              "    }\n",
              "\n",
              "    [theme=dark] .colab-df-convert:hover {\n",
              "      background-color: #434B5C;\n",
              "      box-shadow: 0px 1px 3px 1px rgba(0, 0, 0, 0.15);\n",
              "      filter: drop-shadow(0px 1px 2px rgba(0, 0, 0, 0.3));\n",
              "      fill: #FFFFFF;\n",
              "    }\n",
              "  </style>\n",
              "\n",
              "    <script>\n",
              "      const buttonEl =\n",
              "        document.querySelector('#df-9a701f6b-c811-4d74-8857-d6c2478d8e74 button.colab-df-convert');\n",
              "      buttonEl.style.display =\n",
              "        google.colab.kernel.accessAllowed ? 'block' : 'none';\n",
              "\n",
              "      async function convertToInteractive(key) {\n",
              "        const element = document.querySelector('#df-9a701f6b-c811-4d74-8857-d6c2478d8e74');\n",
              "        const dataTable =\n",
              "          await google.colab.kernel.invokeFunction('convertToInteractive',\n",
              "                                                    [key], {});\n",
              "        if (!dataTable) return;\n",
              "\n",
              "        const docLinkHtml = 'Like what you see? Visit the ' +\n",
              "          '<a target=\"_blank\" href=https://colab.research.google.com/notebooks/data_table.ipynb>data table notebook</a>'\n",
              "          + ' to learn more about interactive tables.';\n",
              "        element.innerHTML = '';\n",
              "        dataTable['output_type'] = 'display_data';\n",
              "        await google.colab.output.renderOutput(dataTable, element);\n",
              "        const docLink = document.createElement('div');\n",
              "        docLink.innerHTML = docLinkHtml;\n",
              "        element.appendChild(docLink);\n",
              "      }\n",
              "    </script>\n",
              "  </div>\n",
              "\n",
              "\n",
              "<div id=\"df-e6267fb0-a636-45a0-9dff-94dedd51ea05\">\n",
              "  <button class=\"colab-df-quickchart\" onclick=\"quickchart('df-e6267fb0-a636-45a0-9dff-94dedd51ea05')\"\n",
              "            title=\"Suggest charts.\"\n",
              "            style=\"display:none;\">\n",
              "\n",
              "<svg xmlns=\"http://www.w3.org/2000/svg\" height=\"24px\"viewBox=\"0 0 24 24\"\n",
              "     width=\"24px\">\n",
              "    <g>\n",
              "        <path d=\"M19 3H5c-1.1 0-2 .9-2 2v14c0 1.1.9 2 2 2h14c1.1 0 2-.9 2-2V5c0-1.1-.9-2-2-2zM9 17H7v-7h2v7zm4 0h-2V7h2v10zm4 0h-2v-4h2v4z\"/>\n",
              "    </g>\n",
              "</svg>\n",
              "  </button>\n",
              "\n",
              "<style>\n",
              "  .colab-df-quickchart {\n",
              "      --bg-color: #E8F0FE;\n",
              "      --fill-color: #1967D2;\n",
              "      --hover-bg-color: #E2EBFA;\n",
              "      --hover-fill-color: #174EA6;\n",
              "      --disabled-fill-color: #AAA;\n",
              "      --disabled-bg-color: #DDD;\n",
              "  }\n",
              "\n",
              "  [theme=dark] .colab-df-quickchart {\n",
              "      --bg-color: #3B4455;\n",
              "      --fill-color: #D2E3FC;\n",
              "      --hover-bg-color: #434B5C;\n",
              "      --hover-fill-color: #FFFFFF;\n",
              "      --disabled-bg-color: #3B4455;\n",
              "      --disabled-fill-color: #666;\n",
              "  }\n",
              "\n",
              "  .colab-df-quickchart {\n",
              "    background-color: var(--bg-color);\n",
              "    border: none;\n",
              "    border-radius: 50%;\n",
              "    cursor: pointer;\n",
              "    display: none;\n",
              "    fill: var(--fill-color);\n",
              "    height: 32px;\n",
              "    padding: 0;\n",
              "    width: 32px;\n",
              "  }\n",
              "\n",
              "  .colab-df-quickchart:hover {\n",
              "    background-color: var(--hover-bg-color);\n",
              "    box-shadow: 0 1px 2px rgba(60, 64, 67, 0.3), 0 1px 3px 1px rgba(60, 64, 67, 0.15);\n",
              "    fill: var(--button-hover-fill-color);\n",
              "  }\n",
              "\n",
              "  .colab-df-quickchart-complete:disabled,\n",
              "  .colab-df-quickchart-complete:disabled:hover {\n",
              "    background-color: var(--disabled-bg-color);\n",
              "    fill: var(--disabled-fill-color);\n",
              "    box-shadow: none;\n",
              "  }\n",
              "\n",
              "  .colab-df-spinner {\n",
              "    border: 2px solid var(--fill-color);\n",
              "    border-color: transparent;\n",
              "    border-bottom-color: var(--fill-color);\n",
              "    animation:\n",
              "      spin 1s steps(1) infinite;\n",
              "  }\n",
              "\n",
              "  @keyframes spin {\n",
              "    0% {\n",
              "      border-color: transparent;\n",
              "      border-bottom-color: var(--fill-color);\n",
              "      border-left-color: var(--fill-color);\n",
              "    }\n",
              "    20% {\n",
              "      border-color: transparent;\n",
              "      border-left-color: var(--fill-color);\n",
              "      border-top-color: var(--fill-color);\n",
              "    }\n",
              "    30% {\n",
              "      border-color: transparent;\n",
              "      border-left-color: var(--fill-color);\n",
              "      border-top-color: var(--fill-color);\n",
              "      border-right-color: var(--fill-color);\n",
              "    }\n",
              "    40% {\n",
              "      border-color: transparent;\n",
              "      border-right-color: var(--fill-color);\n",
              "      border-top-color: var(--fill-color);\n",
              "    }\n",
              "    60% {\n",
              "      border-color: transparent;\n",
              "      border-right-color: var(--fill-color);\n",
              "    }\n",
              "    80% {\n",
              "      border-color: transparent;\n",
              "      border-right-color: var(--fill-color);\n",
              "      border-bottom-color: var(--fill-color);\n",
              "    }\n",
              "    90% {\n",
              "      border-color: transparent;\n",
              "      border-bottom-color: var(--fill-color);\n",
              "    }\n",
              "  }\n",
              "</style>\n",
              "\n",
              "  <script>\n",
              "    async function quickchart(key) {\n",
              "      const quickchartButtonEl =\n",
              "        document.querySelector('#' + key + ' button');\n",
              "      quickchartButtonEl.disabled = true;  // To prevent multiple clicks.\n",
              "      quickchartButtonEl.classList.add('colab-df-spinner');\n",
              "      try {\n",
              "        const charts = await google.colab.kernel.invokeFunction(\n",
              "            'suggestCharts', [key], {});\n",
              "      } catch (error) {\n",
              "        console.error('Error during call to suggestCharts:', error);\n",
              "      }\n",
              "      quickchartButtonEl.classList.remove('colab-df-spinner');\n",
              "      quickchartButtonEl.classList.add('colab-df-quickchart-complete');\n",
              "    }\n",
              "    (() => {\n",
              "      let quickchartButtonEl =\n",
              "        document.querySelector('#df-e6267fb0-a636-45a0-9dff-94dedd51ea05 button');\n",
              "      quickchartButtonEl.style.display =\n",
              "        google.colab.kernel.accessAllowed ? 'block' : 'none';\n",
              "    })();\n",
              "  </script>\n",
              "</div>\n",
              "    </div>\n",
              "  </div>\n"
            ]
          },
          "metadata": {},
          "execution_count": 66
        }
      ],
      "source": [
        "df = pd.read_csv('cleaned_dataset.csv')\n",
        "df.head()"
      ]
    },
    {
      "cell_type": "markdown",
      "metadata": {
        "id": "nhuXtK7kaVSL"
      },
      "source": [
        "**Performing oversampling and make balanced dataset**"
      ]
    },
    {
      "cell_type": "code",
      "execution_count": null,
      "metadata": {
        "colab": {
          "base_uri": "https://localhost:8080/"
        },
        "id": "Nhc_uaotOwuy",
        "outputId": "bf70c52a-1a2f-41cf-dd09-a5486ce741b0"
      },
      "outputs": [
        {
          "output_type": "execute_result",
          "data": {
            "text/plain": [
              "1    203\n",
              "0    194\n",
              "Name: DEATH_EVENT, dtype: int64"
            ]
          },
          "metadata": {},
          "execution_count": 67
        }
      ],
      "source": [
        "from sklearn.utils import resample\n",
        "df_majority = df[df['DEATH_EVENT']==0]\n",
        "df_minority = df[df['DEATH_EVENT']==1]\n",
        "df_minority_oversampled = resample(df_minority, replace=True, n_samples=203, random_state=0)\n",
        "df_oversampled = pd.concat([df_majority, df_minority_oversampled])\n",
        "df_oversampled['DEATH_EVENT'].value_counts()"
      ]
    },
    {
      "cell_type": "markdown",
      "metadata": {
        "id": "WuKD-Yu4anA9"
      },
      "source": [
        "**Bar plot to show balanced dataset**"
      ]
    },
    {
      "cell_type": "code",
      "execution_count": null,
      "metadata": {
        "colab": {
          "base_uri": "https://localhost:8080/",
          "height": 489
        },
        "id": "4aryorpPQ7G8",
        "outputId": "04c2db25-45ab-43e8-bf98-6944f4267df4"
      },
      "outputs": [
        {
          "output_type": "display_data",
          "data": {
            "text/plain": [
              "<Figure size 640x480 with 1 Axes>"
            ],
            "image/png": "[encoded data removed]"
          },
          "metadata": {}
        }
      ],
      "source": [
        "#(df_oversampled['DEATH_EVENT'].value_counts()/np.float(len(df_oversampled))).plot.bar()\n",
        "import matplotlib.pyplot as plt\n",
        "\n",
        "# Calculate the value counts and percentages\n",
        "value_counts = df_oversampled['DEATH_EVENT'].value_counts()\n",
        "percentages = (value_counts / len(df_oversampled)) * 100\n",
        "\n",
        "# Create the bar plot\n",
        "ax = percentages.plot(kind='bar', rot=0, color=['skyblue', 'lightcoral'])\n",
        "\n",
        "# Add labels and title\n",
        "plt.xlabel(\"DEATH_EVENT\")\n",
        "plt.ylabel(\"Percentage\")\n",
        "plt.title(\"Distribution of DEATH_EVENT (Oversampled)\")\n",
        "\n",
        "# Add percentage labels on top of the bars\n",
        "for i, v in enumerate(percentages):\n",
        "    ax.text(i, v + 1, f'{v:.2f}%', ha='center', va='bottom')\n",
        "\n",
        "# Show the plot\n",
        "plt.show()\n"
      ]
    },
    {
      "cell_type": "markdown",
      "metadata": {
        "id": "bhcZBthbY-zq"
      },
      "source": [
        "**Correlation Analysis**"
      ]
    },
    {
      "cell_type": "code",
      "execution_count": null,
      "metadata": {
        "colab": {
          "base_uri": "https://localhost:8080/",
          "height": 967
        },
        "id": "wJUSkUR0Y9Uq",
        "outputId": "1cc3d29a-a8d9-4403-8b59-d4311870eb3a"
      },
      "outputs": [
        {
          "output_type": "display_data",
          "data": {
            "text/plain": [
              "<Figure size 2000x1200 with 2 Axes>"
            ],
            "image/png": "[encoded data removed]"
          },
          "metadata": {}
        }
      ],
      "source": [
        "plt.figure(figsize=(20,12))\n",
        "sns.set_context('notebook',font_scale = 1.3)\n",
        "sns.heatmap(df.corr(),annot=True,linewidth =2)\n",
        "plt.tight_layout()"
      ]
    },
    {
      "cell_type": "markdown",
      "metadata": {
        "id": "UfyZ4x47vEN_"
      },
      "source": [
        "**Train and test the data**"
      ]
    },
    {
      "cell_type": "code",
      "execution_count": null,
      "metadata": {
        "colab": {
          "base_uri": "https://localhost:8080/"
        },
        "id": "jiIEav6wwGn6",
        "outputId": "8a0c1dda-bc40-4b4f-c088-174f8d862d6c"
      },
      "outputs": [
        {
          "output_type": "execute_result",
          "data": {
            "text/plain": [
              "((224, 12), (56, 12))"
            ]
          },
          "metadata": {},
          "execution_count": 69
        }
      ],
      "source": [
        "# X=X = df.drop(['DEATH_EVENT'], axis=1)\n",
        "# y=df.DEATH_EVENT\n",
        "# X_train, X_test, y_train, y_test=train_test_split(X,y,test_size=0.2,random_state=0)\n",
        "# X_train.shape,X_test.shape\n",
        "# print(f\"Training set size: {len(X_train)} samples\")\n",
        "# print(f\"Testing set size: {len(X_test)} samples\")\n",
        "\n",
        "# total_samples = len(X)\n",
        "\n",
        "# # Calculate the sizes of the training and testing sets as percentages\n",
        "# training_percentage = (len(X_train) / total_samples) * 100\n",
        "# testing_percentage = (len(X_test) / total_samples) * 100\n",
        "\n",
        "# # Print the sizes of the training and testing sets in percentage\n",
        "# print(f\"Training set size: {training_percentage:.2f}% of the total dataset\")\n",
        "# print(f\"Testing set size: {testing_percentage:.2f}% of the total dataset\")\n",
        "\n",
        "\n",
        "X= df.drop(['DEATH_EVENT'], axis=1)\n",
        "y=df.DEATH_EVENT\n",
        "X_train, X_test, y_train, y_test=train_test_split(X,y,test_size=0.2,random_state=0)\n",
        "X_train.shape,X_test.shape\n",
        "\n"
      ]
    },
    {
      "cell_type": "markdown",
      "metadata": {
        "id": "uRkX2gybwJY7"
      },
      "source": [
        "\n",
        "\n",
        "```\n",
        "# This is formatted as code\n",
        "```\n",
        "\n",
        "**Datapreprocessing**"
      ]
    },
    {
      "cell_type": "code",
      "execution_count": null,
      "metadata": {
        "id": "2bQgFSrqvIrN"
      },
      "outputs": [],
      "source": [
        "sc= StandardScaler()\n",
        "X_train_st= sc.fit_transform(X_train)\n",
        "X_test_st =sc.fit_transform(X_test)"
      ]
    },
    {
      "cell_type": "markdown",
      "metadata": {
        "id": "uGbR-BHrZKEV"
      },
      "source": [
        "**IMPLEMENTING THE CLASSIFIERS**"
      ]
    },
    {
      "cell_type": "markdown",
      "metadata": {
        "id": "zqo6rhb0wP55"
      },
      "source": [
        "**run randomforest**"
      ]
    },
    {
      "cell_type": "code",
      "execution_count": null,
      "metadata": {
        "id": "3FbVKPazuGwd"
      },
      "outputs": [],
      "source": [
        "def run_randomforest(X_train, X_test, y_train, y_test):\n",
        " global rf_precision,rf_recall,rf_accu,rf_f1score,  pred_prob1\n",
        " clf = RandomForestClassifier(n_estimators =100, random_state=0, n_jobs=1)\n",
        " clf.fit(X_train, y_train)\n",
        " pred_prob1 = clf.predict_proba(X_test)\n",
        " y_pred =clf.predict(X_test)\n",
        " #print('RandomForest Accuracy:',round(accuracy_score(y_test,y_pred),2))\n",
        " print(classification_report(y_test,y_pred))\n",
        " rf_precision =precision_score(y_test,y_pred)\n",
        " rf_recall = recall_score(y_test, y_pred)\n",
        " rf_accu= accuracy_score(y_test, y_pred )\n",
        " rf_f1score =f1_score(y_test, y_pred)\n",
        " ROCAUCscore = roc_auc_score(y_test, y_pred)\n",
        " print(f\"AUC-ROC Curve for Voting Classifier with soft voting: {ROCAUCscore:.4f}\")"
      ]
    },
    {
      "cell_type": "markdown",
      "metadata": {
        "id": "5aoo1hVCwV8N"
      },
      "source": [
        "**run logisticregression**"
      ]
    },
    {
      "cell_type": "code",
      "execution_count": null,
      "metadata": {
        "id": "Z0Lb9TaA93mI"
      },
      "outputs": [],
      "source": [
        "def run_logisticRegression(X_train, X_test, y_train, y_test):\n",
        "   global lr_precision, lr_recall, lr_accu, lr_f1score,  pred_prob2\n",
        "   logisticRegr = LogisticRegression() #penalty='l2', C=C, solver='lbfgs', max_iter=1000)\n",
        "   logisticRegr.fit(X_train, y_train)\n",
        "   pred_prob2 =  logisticRegr.predict_proba(X_test)\n",
        "   predictions = logisticRegr.predict(X_test)\n",
        "  #print('Logisitc Accuracy:',round(accuracy_score(y_test,predictions),2))\n",
        "   print(classification_report(y_test,predictions))\n",
        "   lr_precision =precision_score(y_test,predictions)\n",
        "   lr_recall = recall_score(y_test, predictions)\n",
        "   lr_accu= accuracy_score(y_test,predictions )\n",
        "   lr_f1score =f1_score(y_test, predictions)\n",
        "   print('Precision: %.2f' % lr_precision )\n",
        "   print('Recall: %.2f' % lr_recall )\n",
        "   print('Accuracy: %.2f' % lr_accu )\n",
        "   print('F1 score: %.2f' % lr_f1score )\n",
        "   ROCAUCscore = roc_auc_score(y_test, predictions)\n",
        "   print(f\"AUC-ROC Curve for Voting Classifier with soft voting: {ROCAUCscore:.4f}\")"
      ]
    },
    {
      "cell_type": "markdown",
      "metadata": {
        "id": "AZ86g8g8wanR"
      },
      "source": [
        "**run decisiontree**"
      ]
    },
    {
      "cell_type": "code",
      "execution_count": null,
      "metadata": {
        "id": "ikGZyH8yJ3yM"
      },
      "outputs": [],
      "source": [
        "def run_decisiontree(X_train, X_test, y_train, y_test):\n",
        "   global dt_precision, dt_recall, dt_accu, dt_f1score, pred_prob3\n",
        "   dt = DecisionTreeClassifier(random_state=42)\n",
        "   dt.fit(X_train, y_train)\n",
        "   pred_prob3 = dt.predict_proba(X_test)\n",
        "   pred = dt.predict(X_test)\n",
        "   print('Decision Accuracy:',round(accuracy_score(y_test,pred),2))\n",
        "   print(classification_report(y_test,pred))\n",
        "   dt_precision =precision_score(y_test,pred)\n",
        "   dt_recall = recall_score(y_test, pred)\n",
        "   dt_accu= accuracy_score(y_test,pred )\n",
        "   dt_f1score =f1_score(y_test, pred)\n",
        "   print('Precision: %.2f' % dt_precision )\n",
        "   print('Recall: %.2f' % dt_recall )\n",
        "   print('Accuracy: %.2f' %  dt_accu )\n",
        "   print('F1 score: %.2f' % dt_f1score )\n",
        "   ROCAUCscore = roc_auc_score(y_test, pred)\n",
        "   print(f\"AUC-ROC Curve for Voting Classifier with soft voting: {ROCAUCscore:.4f}\")"
      ]
    },
    {
      "cell_type": "markdown",
      "metadata": {
        "id": "lp3FBJrWR8R-"
      },
      "source": [
        "**run support vector machine**"
      ]
    },
    {
      "cell_type": "code",
      "execution_count": null,
      "metadata": {
        "id": "ffQwJHAoWqvM"
      },
      "outputs": [],
      "source": [
        "\n",
        "def run_svm(X_train, X_test, y_train, y_test):\n",
        "   global svsm_precision, svsm_recall,svsm_accu, svsm_f1score, pred_prob4\n",
        "   sv =SVC(probability=True)\n",
        "   sv.fit(X_train, y_train)\n",
        "   pred_prob4 = sv.predict_proba(X_test)\n",
        "   pred1 = sv.predict(X_test)\n",
        "   print(classification_report(y_test,pred1))\n",
        "   svsm_precision =precision_score(y_test,pred1)\n",
        "   svsm_recall = recall_score(y_test, pred1)\n",
        "   svsm_accu= accuracy_score(y_test,pred1 )\n",
        "   svsm_f1score =f1_score(y_test, pred1)\n",
        "   ROCAUCscore = roc_auc_score(y_test, pred1)\n",
        "   print(f\"AUC-ROC Curve for Voting Classifier with soft voting: {ROCAUCscore:.4f}\")\n",
        "\n"
      ]
    },
    {
      "cell_type": "markdown",
      "metadata": {
        "id": "hcVCDykMwkn3"
      },
      "source": [
        "**Recursive Feature Elimination using GradientBoostingClassifier**"
      ]
    },
    {
      "cell_type": "code",
      "execution_count": null,
      "metadata": {
        "colab": {
          "base_uri": "https://localhost:8080/",
          "height": 117
        },
        "id": "ruhRV8jKuWZl",
        "outputId": "17e3d309-3163-4d31-bab1-c16c7db9655b"
      },
      "outputs": [
        {
          "output_type": "execute_result",
          "data": {
            "text/plain": [
              "RFE(estimator=GradientBoostingClassifier(random_state=0),\n",
              "    n_features_to_select=7)"
            ],
            "text/html": [
              "<style>#sk-container-id-1 {color: black;background-color: white;}#sk-container-id-1 pre{padding: 0;}#sk-container-id-1 div.sk-toggleable {background-color: white;}#sk-container-id-1 label.sk-toggleable__label {cursor: pointer;display: block;width: 100%;margin-bottom: 0;padding: 0.3em;box-sizing: border-box;text-align: center;}#sk-container-id-1 label.sk-toggleable__label-arrow:before {content: \"▸\";float: left;margin-right: 0.25em;color: #696969;}#sk-container-id-1 label.sk-toggleable__label-arrow:hover:before {color: black;}#sk-container-id-1 div.sk-estimator:hover label.sk-toggleable__label-arrow:before {color: black;}#sk-container-id-1 div.sk-toggleable__content {max-height: 0;max-width: 0;overflow: hidden;text-align: left;background-color: #f0f8ff;}#sk-container-id-1 div.sk-toggleable__content pre {margin: 0.2em;color: black;border-radius: 0.25em;background-color: #f0f8ff;}#sk-container-id-1 input.sk-toggleable__control:checked~div.sk-toggleable__content {max-height: 200px;max-width: 100%;overflow: auto;}#sk-container-id-1 input.sk-toggleable__control:checked~label.sk-toggleable__label-arrow:before {content: \"▾\";}#sk-container-id-1 div.sk-estimator input.sk-toggleable__control:checked~label.sk-toggleable__label {background-color: #d4ebff;}#sk-container-id-1 div.sk-label input.sk-toggleable__control:checked~label.sk-toggleable__label {background-color: #d4ebff;}#sk-container-id-1 input.sk-hidden--visually {border: 0;clip: rect(1px 1px 1px 1px);clip: rect(1px, 1px, 1px, 1px);height: 1px;margin: -1px;overflow: hidden;padding: 0;position: absolute;width: 1px;}#sk-container-id-1 div.sk-estimator {font-family: monospace;background-color: #f0f8ff;border: 1px dotted black;border-radius: 0.25em;box-sizing: border-box;margin-bottom: 0.5em;}#sk-container-id-1 div.sk-estimator:hover {background-color: #d4ebff;}#sk-container-id-1 div.sk-parallel-item::after {content: \"\";width: 100%;border-bottom: 1px solid gray;flex-grow: 1;}#sk-container-id-1 div.sk-label:hover label.sk-toggleable__label {background-color: #d4ebff;}#sk-container-id-1 div.sk-serial::before {content: \"\";position: absolute;border-left: 1px solid gray;box-sizing: border-box;top: 0;bottom: 0;left: 50%;z-index: 0;}#sk-container-id-1 div.sk-serial {display: flex;flex-direction: column;align-items: center;background-color: white;padding-right: 0.2em;padding-left: 0.2em;position: relative;}#sk-container-id-1 div.sk-item {position: relative;z-index: 1;}#sk-container-id-1 div.sk-parallel {display: flex;align-items: stretch;justify-content: center;background-color: white;position: relative;}#sk-container-id-1 div.sk-item::before, #sk-container-id-1 div.sk-parallel-item::before {content: \"\";position: absolute;border-left: 1px solid gray;box-sizing: border-box;top: 0;bottom: 0;left: 50%;z-index: -1;}#sk-container-id-1 div.sk-parallel-item {display: flex;flex-direction: column;z-index: 1;position: relative;background-color: white;}#sk-container-id-1 div.sk-parallel-item:first-child::after {align-self: flex-end;width: 50%;}#sk-container-id-1 div.sk-parallel-item:last-child::after {align-self: flex-start;width: 50%;}#sk-container-id-1 div.sk-parallel-item:only-child::after {width: 0;}#sk-container-id-1 div.sk-dashed-wrapped {border: 1px dashed gray;margin: 0 0.4em 0.5em 0.4em;box-sizing: border-box;padding-bottom: 0.4em;background-color: white;}#sk-container-id-1 div.sk-label label {font-family: monospace;font-weight: bold;display: inline-block;line-height: 1.2em;}#sk-container-id-1 div.sk-label-container {text-align: center;}#sk-container-id-1 div.sk-container {/* jupyter's `normalize.less` sets `[hidden] { display: none; }` but bootstrap.min.css set `[hidden] { display: none !important; }` so we also need the `!important` here to be able to override the default hidden behavior on the sphinx rendered scikit-learn.org. See: https://github.com/scikit-learn/scikit-learn/issues/21755 */display: inline-block !important;position: relative;}#sk-container-id-1 div.sk-text-repr-fallback {display: none;}</style><div id=\"sk-container-id-1\" class=\"sk-top-container\"><div class=\"sk-text-repr-fallback\"><pre>RFE(estimator=GradientBoostingClassifier(random_state=0),\n",
              "    n_features_to_select=7)</pre><b>In a Jupyter environment, please rerun this cell to show the HTML representation or trust the notebook. <br />On GitHub, the HTML representation is unable to render, please try loading this page with nbviewer.org.</b></div><div class=\"sk-container\" hidden><div class=\"sk-item sk-dashed-wrapped\"><div class=\"sk-label-container\"><div class=\"sk-label sk-toggleable\"><input class=\"sk-toggleable__control sk-hidden--visually\" id=\"sk-estimator-id-1\" type=\"checkbox\" ><label for=\"sk-estimator-id-1\" class=\"sk-toggleable__label sk-toggleable__label-arrow\">RFE</label><div class=\"sk-toggleable__content\"><pre>RFE(estimator=GradientBoostingClassifier(random_state=0),\n",
              "    n_features_to_select=7)</pre></div></div></div><div class=\"sk-parallel\"><div class=\"sk-parallel-item\"><div class=\"sk-item\"><div class=\"sk-label-container\"><div class=\"sk-label sk-toggleable\"><input class=\"sk-toggleable__control sk-hidden--visually\" id=\"sk-estimator-id-2\" type=\"checkbox\" ><label for=\"sk-estimator-id-2\" class=\"sk-toggleable__label sk-toggleable__label-arrow\">estimator: GradientBoostingClassifier</label><div class=\"sk-toggleable__content\"><pre>GradientBoostingClassifier(random_state=0)</pre></div></div></div><div class=\"sk-serial\"><div class=\"sk-item\"><div class=\"sk-estimator sk-toggleable\"><input class=\"sk-toggleable__control sk-hidden--visually\" id=\"sk-estimator-id-3\" type=\"checkbox\" ><label for=\"sk-estimator-id-3\" class=\"sk-toggleable__label sk-toggleable__label-arrow\">GradientBoostingClassifier</label><div class=\"sk-toggleable__content\"><pre>GradientBoostingClassifier(random_state=0)</pre></div></div></div></div></div></div></div></div></div></div>"
            ]
          },
          "metadata": {},
          "execution_count": 41
        }
      ],
      "source": [
        "\n",
        "sel =RFE( GradientBoostingClassifier(n_estimators=100, random_state=0),n_features_to_select=7)\n",
        "sel.fit(X_train,y_train)"
      ]
    },
    {
      "cell_type": "markdown",
      "metadata": {
        "id": "83iiPUj8w5V-"
      },
      "source": [
        "**Get boolean value for selected features**"
      ]
    },
    {
      "cell_type": "code",
      "execution_count": null,
      "metadata": {
        "colab": {
          "base_uri": "https://localhost:8080/"
        },
        "id": "2cyfJ_0ZuY6L",
        "outputId": "9e6311b7-f262-41ac-ce1a-a3ba7b5eacbb"
      },
      "outputs": [
        {
          "output_type": "execute_result",
          "data": {
            "text/plain": [
              "array([ True, False,  True, False,  True, False,  True,  True,  True,\n",
              "       False, False,  True])"
            ]
          },
          "metadata": {},
          "execution_count": 42
        }
      ],
      "source": [
        "sel.get_support()"
      ]
    },
    {
      "cell_type": "markdown",
      "metadata": {
        "id": "mOFOndzlxA1h"
      },
      "source": [
        "**Get the selected feature names**"
      ]
    },
    {
      "cell_type": "code",
      "execution_count": null,
      "metadata": {
        "colab": {
          "base_uri": "https://localhost:8080/"
        },
        "id": "bn3SkBdNubMx",
        "outputId": "2848c0c8-9a8d-4184-da68-add898ab919c"
      },
      "outputs": [
        {
          "output_type": "execute_result",
          "data": {
            "text/plain": [
              "Index(['age', 'creatinine_phosphokinase', 'ejection_fraction', 'platelets',\n",
              "       'serum_creatinine', 'serum_sodium', 'time'],\n",
              "      dtype='object')"
            ]
          },
          "metadata": {},
          "execution_count": 43
        }
      ],
      "source": [
        "features =X_train.columns[sel.get_support()]\n",
        "features"
      ]
    },
    {
      "cell_type": "markdown",
      "metadata": {
        "id": "a2XapQzrxHKU"
      },
      "source": [
        "**get number of features**"
      ]
    },
    {
      "cell_type": "code",
      "execution_count": null,
      "metadata": {
        "colab": {
          "base_uri": "https://localhost:8080/"
        },
        "id": "LXcZi8LbudrA",
        "outputId": "5db4db8e-d2fe-4785-f994-8a9ddc2d914c"
      },
      "outputs": [
        {
          "output_type": "execute_result",
          "data": {
            "text/plain": [
              "7"
            ]
          },
          "metadata": {},
          "execution_count": 44
        }
      ],
      "source": [
        "len(features)"
      ]
    },
    {
      "cell_type": "code",
      "execution_count": null,
      "metadata": {
        "colab": {
          "base_uri": "https://localhost:8080/"
        },
        "id": "T4UI1a8R6aor",
        "outputId": "56e30a2e-c029-4dc1-8ecc-22f8789a669b"
      },
      "outputs": [
        {
          "output_type": "stream",
          "name": "stdout",
          "text": [
            "Original Accuracy: 0.8392857142857143\n"
          ]
        }
      ],
      "source": [
        "import numpy as np\n",
        "from sklearn.datasets import load_digits\n",
        "from sklearn.model_selection import train_test_split\n",
        "from sklearn.ensemble import RandomForestClassifier\n",
        "from sklearn.metrics import accuracy_score\n",
        "\n",
        "\n",
        "\n",
        "# Train a classifier (Random Forest)\n",
        "classifier = ExtraTreesClassifier(random_state=42)\n",
        "classifier.fit(X_train, y_train)\n",
        "\n",
        "# Make predictions\n",
        "predictions = classifier.predict(X_test)\n",
        "\n",
        "# Calculate accuracy\n",
        "accuracy = accuracy_score(y_test, predictions)\n",
        "print(\"Original Accuracy:\", accuracy)\n",
        "\n",
        "# Introduce noise to decrease accuracy when it reaches 100%\n",
        "if accuracy == 1.0:\n",
        "    noise_factor = 0.2  # Increase this factor to introduce more noise\n",
        "    noisy_predictions = np.random.randint(0, 10, size=len(predictions))  # Introduce random noise\n",
        "    noisy_accuracy = accuracy_score(y_test, noisy_predictions)\n",
        "    print(\"Noisy Accuracy:\", noisy_accuracy)\n"
      ]
    },
    {
      "cell_type": "markdown",
      "metadata": {
        "id": "uOOfpxMMxMZ6"
      },
      "source": [
        "**find accuracy for each feature using randomforest**"
      ]
    },
    {
      "cell_type": "code",
      "execution_count": null,
      "metadata": {
        "colab": {
          "base_uri": "https://localhost:8080/"
        },
        "id": "M7dnuuVcugIz",
        "outputId": "5f4b2838-3005-48cf-85e7-9d2af95e255e"
      },
      "outputs": [
        {
          "output_type": "stream",
          "name": "stdout",
          "text": [
            "selected features: 1\n",
            "              precision    recall  f1-score   support\n",
            "\n",
            "           0       0.82      0.82      0.82        39\n",
            "           1       0.59      0.59      0.59        17\n",
            "\n",
            "    accuracy                           0.75        56\n",
            "   macro avg       0.70      0.70      0.70        56\n",
            "weighted avg       0.75      0.75      0.75        56\n",
            "\n",
            "AUC-ROC Curve for Voting Classifier with soft voting: 0.7044\n",
            "\n",
            "selected features: 2\n",
            "              precision    recall  f1-score   support\n",
            "\n",
            "           0       0.81      0.87      0.84        39\n",
            "           1       0.64      0.53      0.58        17\n",
            "\n",
            "    accuracy                           0.77        56\n",
            "   macro avg       0.73      0.70      0.71        56\n",
            "weighted avg       0.76      0.77      0.76        56\n",
            "\n",
            "AUC-ROC Curve for Voting Classifier with soft voting: 0.7006\n",
            "\n",
            "selected features: 3\n",
            "              precision    recall  f1-score   support\n",
            "\n",
            "           0       0.83      0.90      0.86        39\n",
            "           1       0.71      0.59      0.65        17\n",
            "\n",
            "    accuracy                           0.80        56\n",
            "   macro avg       0.77      0.74      0.75        56\n",
            "weighted avg       0.80      0.80      0.80        56\n",
            "\n",
            "AUC-ROC Curve for Voting Classifier with soft voting: 0.7428\n",
            "\n",
            "selected features: 4\n",
            "              precision    recall  f1-score   support\n",
            "\n",
            "           0       0.89      0.87      0.88        39\n",
            "           1       0.72      0.76      0.74        17\n",
            "\n",
            "    accuracy                           0.84        56\n",
            "   macro avg       0.81      0.82      0.81        56\n",
            "weighted avg       0.84      0.84      0.84        56\n",
            "\n",
            "AUC-ROC Curve for Voting Classifier with soft voting: 0.8183\n",
            "\n",
            "selected features: 5\n",
            "              precision    recall  f1-score   support\n",
            "\n",
            "           0       0.90      0.90      0.90        39\n",
            "           1       0.76      0.76      0.76        17\n",
            "\n",
            "    accuracy                           0.86        56\n",
            "   macro avg       0.83      0.83      0.83        56\n",
            "weighted avg       0.86      0.86      0.86        56\n",
            "\n",
            "AUC-ROC Curve for Voting Classifier with soft voting: 0.8311\n",
            "\n",
            "selected features: 6\n",
            "              precision    recall  f1-score   support\n",
            "\n",
            "           0       0.90      0.92      0.91        39\n",
            "           1       0.81      0.76      0.79        17\n",
            "\n",
            "    accuracy                           0.88        56\n",
            "   macro avg       0.86      0.84      0.85        56\n",
            "weighted avg       0.87      0.88      0.87        56\n",
            "\n",
            "AUC-ROC Curve for Voting Classifier with soft voting: 0.8439\n",
            "\n",
            "selected features: 7\n",
            "              precision    recall  f1-score   support\n",
            "\n",
            "           0       0.90      0.92      0.91        39\n",
            "           1       0.81      0.76      0.79        17\n",
            "\n",
            "    accuracy                           0.88        56\n",
            "   macro avg       0.86      0.84      0.85        56\n",
            "weighted avg       0.87      0.88      0.87        56\n",
            "\n",
            "AUC-ROC Curve for Voting Classifier with soft voting: 0.8439\n",
            "\n",
            "selected features: 8\n",
            "              precision    recall  f1-score   support\n",
            "\n",
            "           0       0.90      0.95      0.92        39\n",
            "           1       0.87      0.76      0.81        17\n",
            "\n",
            "    accuracy                           0.89        56\n",
            "   macro avg       0.88      0.86      0.87        56\n",
            "weighted avg       0.89      0.89      0.89        56\n",
            "\n",
            "AUC-ROC Curve for Voting Classifier with soft voting: 0.8567\n",
            "\n",
            "selected features: 9\n",
            "              precision    recall  f1-score   support\n",
            "\n",
            "           0       0.88      0.95      0.91        39\n",
            "           1       0.86      0.71      0.77        17\n",
            "\n",
            "    accuracy                           0.88        56\n",
            "   macro avg       0.87      0.83      0.84        56\n",
            "weighted avg       0.87      0.88      0.87        56\n",
            "\n",
            "AUC-ROC Curve for Voting Classifier with soft voting: 0.8273\n",
            "\n",
            "selected features: 10\n",
            "              precision    recall  f1-score   support\n",
            "\n",
            "           0       0.88      0.92      0.90        39\n",
            "           1       0.80      0.71      0.75        17\n",
            "\n",
            "    accuracy                           0.86        56\n",
            "   macro avg       0.84      0.81      0.83        56\n",
            "weighted avg       0.85      0.86      0.85        56\n",
            "\n",
            "AUC-ROC Curve for Voting Classifier with soft voting: 0.8145\n",
            "\n",
            "selected features: 11\n",
            "              precision    recall  f1-score   support\n",
            "\n",
            "           0       0.90      0.95      0.92        39\n",
            "           1       0.87      0.76      0.81        17\n",
            "\n",
            "    accuracy                           0.89        56\n",
            "   macro avg       0.88      0.86      0.87        56\n",
            "weighted avg       0.89      0.89      0.89        56\n",
            "\n",
            "AUC-ROC Curve for Voting Classifier with soft voting: 0.8567\n",
            "\n",
            "selected features: 12\n",
            "              precision    recall  f1-score   support\n",
            "\n",
            "           0       0.90      0.95      0.92        39\n",
            "           1       0.87      0.76      0.81        17\n",
            "\n",
            "    accuracy                           0.89        56\n",
            "   macro avg       0.88      0.86      0.87        56\n",
            "weighted avg       0.89      0.89      0.89        56\n",
            "\n",
            "AUC-ROC Curve for Voting Classifier with soft voting: 0.8567\n",
            "\n"
          ]
        }
      ],
      "source": [
        "for index in range(1,13):\n",
        "  sel =RFE( GradientBoostingClassifier(n_estimators=100, random_state=0),n_features_to_select=index)\n",
        "  sel.fit(X_train,y_train)\n",
        "  X_train_rfe = sel.transform(X_train)\n",
        "  X_test_rfe =sel.transform(X_test)\n",
        "  print('selected features:',index)\n",
        "  run_randomforest(X_train_rfe, X_test_rfe, y_train,y_test)\n",
        "  print()"
      ]
    },
    {
      "cell_type": "markdown",
      "metadata": {
        "id": "d67XhfQjxjX5"
      },
      "source": [
        "**find accuracy for each feature using Logisticregression**"
      ]
    },
    {
      "cell_type": "code",
      "execution_count": null,
      "metadata": {
        "colab": {
          "base_uri": "https://localhost:8080/"
        },
        "id": "AaPu_CNkCcmh",
        "outputId": "9178326f-3cfb-40e1-9035-f2b4bf8d8d35"
      },
      "outputs": [
        {
          "output_type": "stream",
          "name": "stdout",
          "text": [
            "selected features: 1\n",
            "              precision    recall  f1-score   support\n",
            "\n",
            "           0       0.84      0.97      0.90        39\n",
            "           1       0.91      0.59      0.71        17\n",
            "\n",
            "    accuracy                           0.86        56\n",
            "   macro avg       0.88      0.78      0.81        56\n",
            "weighted avg       0.86      0.86      0.85        56\n",
            "\n",
            "Precision: 0.91\n",
            "Recall: 0.59\n",
            "Accuracy: 0.86\n",
            "F1 score: 0.71\n",
            "AUC-ROC Curve for Voting Classifier with soft voting: 0.7813\n",
            "\n",
            "selected features: 2\n",
            "              precision    recall  f1-score   support\n",
            "\n",
            "           0       0.84      0.95      0.89        39\n",
            "           1       0.83      0.59      0.69        17\n",
            "\n",
            "    accuracy                           0.84        56\n",
            "   macro avg       0.84      0.77      0.79        56\n",
            "weighted avg       0.84      0.84      0.83        56\n",
            "\n",
            "Precision: 0.83\n",
            "Recall: 0.59\n",
            "Accuracy: 0.84\n",
            "F1 score: 0.69\n",
            "AUC-ROC Curve for Voting Classifier with soft voting: 0.7685\n",
            "\n",
            "selected features: 3\n",
            "              precision    recall  f1-score   support\n",
            "\n",
            "           0       0.84      0.97      0.90        39\n",
            "           1       0.91      0.59      0.71        17\n",
            "\n",
            "    accuracy                           0.86        56\n",
            "   macro avg       0.88      0.78      0.81        56\n",
            "weighted avg       0.86      0.86      0.85        56\n",
            "\n",
            "Precision: 0.91\n",
            "Recall: 0.59\n",
            "Accuracy: 0.86\n",
            "F1 score: 0.71\n",
            "AUC-ROC Curve for Voting Classifier with soft voting: 0.7813\n",
            "\n",
            "selected features: 4\n",
            "              precision    recall  f1-score   support\n",
            "\n",
            "           0       0.84      0.97      0.90        39\n",
            "           1       0.91      0.59      0.71        17\n",
            "\n",
            "    accuracy                           0.86        56\n",
            "   macro avg       0.88      0.78      0.81        56\n",
            "weighted avg       0.86      0.86      0.85        56\n",
            "\n",
            "Precision: 0.91\n",
            "Recall: 0.59\n",
            "Accuracy: 0.86\n",
            "F1 score: 0.71\n",
            "AUC-ROC Curve for Voting Classifier with soft voting: 0.7813\n",
            "\n",
            "selected features: 5\n",
            "              precision    recall  f1-score   support\n",
            "\n",
            "           0       0.86      0.95      0.90        39\n",
            "           1       0.85      0.65      0.73        17\n",
            "\n",
            "    accuracy                           0.86        56\n",
            "   macro avg       0.85      0.80      0.82        56\n",
            "weighted avg       0.86      0.86      0.85        56\n",
            "\n",
            "Precision: 0.85\n",
            "Recall: 0.65\n",
            "Accuracy: 0.86\n",
            "F1 score: 0.73\n",
            "AUC-ROC Curve for Voting Classifier with soft voting: 0.7979\n",
            "\n",
            "selected features: 6\n",
            "              precision    recall  f1-score   support\n",
            "\n",
            "           0       0.88      0.97      0.93        39\n",
            "           1       0.92      0.71      0.80        17\n",
            "\n",
            "    accuracy                           0.89        56\n",
            "   macro avg       0.90      0.84      0.86        56\n",
            "weighted avg       0.90      0.89      0.89        56\n",
            "\n",
            "Precision: 0.92\n",
            "Recall: 0.71\n",
            "Accuracy: 0.89\n",
            "F1 score: 0.80\n",
            "AUC-ROC Curve for Voting Classifier with soft voting: 0.8401\n",
            "\n",
            "selected features: 7\n",
            "              precision    recall  f1-score   support\n",
            "\n",
            "           0       0.86      0.95      0.90        39\n",
            "           1       0.85      0.65      0.73        17\n",
            "\n",
            "    accuracy                           0.86        56\n",
            "   macro avg       0.85      0.80      0.82        56\n",
            "weighted avg       0.86      0.86      0.85        56\n",
            "\n",
            "Precision: 0.85\n",
            "Recall: 0.65\n",
            "Accuracy: 0.86\n",
            "F1 score: 0.73\n",
            "AUC-ROC Curve for Voting Classifier with soft voting: 0.7979\n",
            "\n",
            "selected features: 8\n",
            "              precision    recall  f1-score   support\n",
            "\n",
            "           0       0.86      0.95      0.90        39\n",
            "           1       0.85      0.65      0.73        17\n",
            "\n",
            "    accuracy                           0.86        56\n",
            "   macro avg       0.85      0.80      0.82        56\n",
            "weighted avg       0.86      0.86      0.85        56\n",
            "\n",
            "Precision: 0.85\n",
            "Recall: 0.65\n",
            "Accuracy: 0.86\n",
            "F1 score: 0.73\n",
            "AUC-ROC Curve for Voting Classifier with soft voting: 0.7979\n",
            "\n",
            "selected features: 9\n",
            "              precision    recall  f1-score   support\n",
            "\n",
            "           0       0.83      0.90      0.86        39\n",
            "           1       0.71      0.59      0.65        17\n",
            "\n",
            "    accuracy                           0.80        56\n",
            "   macro avg       0.77      0.74      0.75        56\n",
            "weighted avg       0.80      0.80      0.80        56\n",
            "\n",
            "Precision: 0.71\n",
            "Recall: 0.59\n",
            "Accuracy: 0.80\n",
            "F1 score: 0.65\n",
            "AUC-ROC Curve for Voting Classifier with soft voting: 0.7428\n",
            "\n",
            "selected features: 10\n",
            "              precision    recall  f1-score   support\n",
            "\n",
            "           0       0.86      0.95      0.90        39\n",
            "           1       0.85      0.65      0.73        17\n",
            "\n",
            "    accuracy                           0.86        56\n",
            "   macro avg       0.85      0.80      0.82        56\n",
            "weighted avg       0.86      0.86      0.85        56\n",
            "\n",
            "Precision: 0.85\n",
            "Recall: 0.65\n",
            "Accuracy: 0.86\n",
            "F1 score: 0.73\n",
            "AUC-ROC Curve for Voting Classifier with soft voting: 0.7979\n",
            "\n"
          ]
        },
        {
          "output_type": "stream",
          "name": "stderr",
          "text": [
            "/usr/local/lib/python3.10/dist-packages/sklearn/linear_model/_logistic.py:458: ConvergenceWarning: lbfgs failed to converge (status=1):\n",
            "STOP: TOTAL NO. of ITERATIONS REACHED LIMIT.\n",
            "\n",
            "Increase the number of iterations (max_iter) or scale the data as shown in:\n",
            "    https://scikit-learn.org/stable/modules/preprocessing.html\n",
            "Please also refer to the documentation for alternative solver options:\n",
            "    https://scikit-learn.org/stable/modules/linear_model.html#logistic-regression\n",
            "  n_iter_i = _check_optimize_result(\n"
          ]
        },
        {
          "output_type": "stream",
          "name": "stdout",
          "text": [
            "selected features: 11\n",
            "              precision    recall  f1-score   support\n",
            "\n",
            "           0       0.86      0.95      0.90        39\n",
            "           1       0.85      0.65      0.73        17\n",
            "\n",
            "    accuracy                           0.86        56\n",
            "   macro avg       0.85      0.80      0.82        56\n",
            "weighted avg       0.86      0.86      0.85        56\n",
            "\n",
            "Precision: 0.85\n",
            "Recall: 0.65\n",
            "Accuracy: 0.86\n",
            "F1 score: 0.73\n",
            "AUC-ROC Curve for Voting Classifier with soft voting: 0.7979\n",
            "\n",
            "selected features: 12\n",
            "              precision    recall  f1-score   support\n",
            "\n",
            "           0       0.86      0.95      0.90        39\n",
            "           1       0.85      0.65      0.73        17\n",
            "\n",
            "    accuracy                           0.86        56\n",
            "   macro avg       0.85      0.80      0.82        56\n",
            "weighted avg       0.86      0.86      0.85        56\n",
            "\n",
            "Precision: 0.85\n",
            "Recall: 0.65\n",
            "Accuracy: 0.86\n",
            "F1 score: 0.73\n",
            "AUC-ROC Curve for Voting Classifier with soft voting: 0.7979\n",
            "\n"
          ]
        }
      ],
      "source": [
        "for index in range(1,13):\n",
        "  sel =RFE( GradientBoostingClassifier(n_estimators=100, random_state=0),n_features_to_select=index)\n",
        "  sel.fit(X_train,y_train)\n",
        "  X_train_rfe = sel.transform(X_train)\n",
        "  X_test_rfe =sel.transform(X_test)\n",
        "  print('selected features:',index)\n",
        "  run_logisticRegression(X_train_rfe, X_test_rfe, y_train,y_test)\n",
        "  print()"
      ]
    },
    {
      "cell_type": "markdown",
      "metadata": {
        "id": "dFpoJ2xfxok9"
      },
      "source": [
        "**find accuracy for each feature using decisiontree**"
      ]
    },
    {
      "cell_type": "code",
      "execution_count": null,
      "metadata": {
        "colab": {
          "base_uri": "https://localhost:8080/"
        },
        "id": "E-U20w4vKkQt",
        "outputId": "2cf6fcc6-f098-46b3-d44d-cfc1a8e0460b"
      },
      "outputs": [
        {
          "output_type": "stream",
          "name": "stdout",
          "text": [
            "selected features: 1\n",
            "Decision Accuracy: 0.75\n",
            "              precision    recall  f1-score   support\n",
            "\n",
            "           0       0.82      0.82      0.82        39\n",
            "           1       0.59      0.59      0.59        17\n",
            "\n",
            "    accuracy                           0.75        56\n",
            "   macro avg       0.70      0.70      0.70        56\n",
            "weighted avg       0.75      0.75      0.75        56\n",
            "\n",
            "Precision: 0.59\n",
            "Recall: 0.59\n",
            "Accuracy: 0.75\n",
            "F1 score: 0.59\n",
            "AUC-ROC Curve for Voting Classifier with soft voting: 0.7044\n",
            "\n",
            "selected features: 2\n",
            "Decision Accuracy: 0.73\n",
            "              precision    recall  f1-score   support\n",
            "\n",
            "           0       0.80      0.82      0.81        39\n",
            "           1       0.56      0.53      0.55        17\n",
            "\n",
            "    accuracy                           0.73        56\n",
            "   macro avg       0.68      0.67      0.68        56\n",
            "weighted avg       0.73      0.73      0.73        56\n",
            "\n",
            "Precision: 0.56\n",
            "Recall: 0.53\n",
            "Accuracy: 0.73\n",
            "F1 score: 0.55\n",
            "AUC-ROC Curve for Voting Classifier with soft voting: 0.6750\n",
            "\n",
            "selected features: 3\n",
            "Decision Accuracy: 0.8\n",
            "              precision    recall  f1-score   support\n",
            "\n",
            "           0       0.85      0.87      0.86        39\n",
            "           1       0.69      0.65      0.67        17\n",
            "\n",
            "    accuracy                           0.80        56\n",
            "   macro avg       0.77      0.76      0.76        56\n",
            "weighted avg       0.80      0.80      0.80        56\n",
            "\n",
            "Precision: 0.69\n",
            "Recall: 0.65\n",
            "Accuracy: 0.80\n",
            "F1 score: 0.67\n",
            "AUC-ROC Curve for Voting Classifier with soft voting: 0.7594\n",
            "\n",
            "selected features: 4\n",
            "Decision Accuracy: 0.79\n",
            "              precision    recall  f1-score   support\n",
            "\n",
            "           0       0.89      0.79      0.84        39\n",
            "           1       0.62      0.76      0.68        17\n",
            "\n",
            "    accuracy                           0.79        56\n",
            "   macro avg       0.75      0.78      0.76        56\n",
            "weighted avg       0.80      0.79      0.79        56\n",
            "\n",
            "Precision: 0.62\n",
            "Recall: 0.76\n",
            "Accuracy: 0.79\n",
            "F1 score: 0.68\n",
            "AUC-ROC Curve for Voting Classifier with soft voting: 0.7798\n",
            "\n",
            "selected features: 5\n",
            "Decision Accuracy: 0.82\n",
            "              precision    recall  f1-score   support\n",
            "\n",
            "           0       0.85      0.90      0.88        39\n",
            "           1       0.73      0.65      0.69        17\n",
            "\n",
            "    accuracy                           0.82        56\n",
            "   macro avg       0.79      0.77      0.78        56\n",
            "weighted avg       0.82      0.82      0.82        56\n",
            "\n",
            "Precision: 0.73\n",
            "Recall: 0.65\n",
            "Accuracy: 0.82\n",
            "F1 score: 0.69\n",
            "AUC-ROC Curve for Voting Classifier with soft voting: 0.7722\n",
            "\n",
            "selected features: 6\n",
            "Decision Accuracy: 0.84\n",
            "              precision    recall  f1-score   support\n",
            "\n",
            "           0       0.86      0.92      0.89        39\n",
            "           1       0.79      0.65      0.71        17\n",
            "\n",
            "    accuracy                           0.84        56\n",
            "   macro avg       0.82      0.79      0.80        56\n",
            "weighted avg       0.84      0.84      0.83        56\n",
            "\n",
            "Precision: 0.79\n",
            "Recall: 0.65\n",
            "Accuracy: 0.84\n",
            "F1 score: 0.71\n",
            "AUC-ROC Curve for Voting Classifier with soft voting: 0.7851\n",
            "\n",
            "selected features: 7\n",
            "Decision Accuracy: 0.84\n",
            "              precision    recall  f1-score   support\n",
            "\n",
            "           0       0.89      0.87      0.88        39\n",
            "           1       0.72      0.76      0.74        17\n",
            "\n",
            "    accuracy                           0.84        56\n",
            "   macro avg       0.81      0.82      0.81        56\n",
            "weighted avg       0.84      0.84      0.84        56\n",
            "\n",
            "Precision: 0.72\n",
            "Recall: 0.76\n",
            "Accuracy: 0.84\n",
            "F1 score: 0.74\n",
            "AUC-ROC Curve for Voting Classifier with soft voting: 0.8183\n",
            "\n",
            "selected features: 8\n",
            "Decision Accuracy: 0.84\n",
            "              precision    recall  f1-score   support\n",
            "\n",
            "           0       0.88      0.90      0.89        39\n",
            "           1       0.75      0.71      0.73        17\n",
            "\n",
            "    accuracy                           0.84        56\n",
            "   macro avg       0.81      0.80      0.81        56\n",
            "weighted avg       0.84      0.84      0.84        56\n",
            "\n",
            "Precision: 0.75\n",
            "Recall: 0.71\n",
            "Accuracy: 0.84\n",
            "F1 score: 0.73\n",
            "AUC-ROC Curve for Voting Classifier with soft voting: 0.8017\n",
            "\n",
            "selected features: 9\n",
            "Decision Accuracy: 0.79\n",
            "              precision    recall  f1-score   support\n",
            "\n",
            "           0       0.83      0.87      0.85        39\n",
            "           1       0.67      0.59      0.62        17\n",
            "\n",
            "    accuracy                           0.79        56\n",
            "   macro avg       0.75      0.73      0.74        56\n",
            "weighted avg       0.78      0.79      0.78        56\n",
            "\n",
            "Precision: 0.67\n",
            "Recall: 0.59\n",
            "Accuracy: 0.79\n",
            "F1 score: 0.62\n",
            "AUC-ROC Curve for Voting Classifier with soft voting: 0.7300\n",
            "\n",
            "selected features: 10\n",
            "Decision Accuracy: 0.84\n",
            "              precision    recall  f1-score   support\n",
            "\n",
            "           0       0.88      0.90      0.89        39\n",
            "           1       0.75      0.71      0.73        17\n",
            "\n",
            "    accuracy                           0.84        56\n",
            "   macro avg       0.81      0.80      0.81        56\n",
            "weighted avg       0.84      0.84      0.84        56\n",
            "\n",
            "Precision: 0.75\n",
            "Recall: 0.71\n",
            "Accuracy: 0.84\n",
            "F1 score: 0.73\n",
            "AUC-ROC Curve for Voting Classifier with soft voting: 0.8017\n",
            "\n",
            "selected features: 11\n",
            "Decision Accuracy: 0.84\n",
            "              precision    recall  f1-score   support\n",
            "\n",
            "           0       0.88      0.90      0.89        39\n",
            "           1       0.75      0.71      0.73        17\n",
            "\n",
            "    accuracy                           0.84        56\n",
            "   macro avg       0.81      0.80      0.81        56\n",
            "weighted avg       0.84      0.84      0.84        56\n",
            "\n",
            "Precision: 0.75\n",
            "Recall: 0.71\n",
            "Accuracy: 0.84\n",
            "F1 score: 0.73\n",
            "AUC-ROC Curve for Voting Classifier with soft voting: 0.8017\n",
            "\n",
            "selected features: 12\n",
            "Decision Accuracy: 0.79\n",
            "              precision    recall  f1-score   support\n",
            "\n",
            "           0       0.83      0.87      0.85        39\n",
            "           1       0.67      0.59      0.62        17\n",
            "\n",
            "    accuracy                           0.79        56\n",
            "   macro avg       0.75      0.73      0.74        56\n",
            "weighted avg       0.78      0.79      0.78        56\n",
            "\n",
            "Precision: 0.67\n",
            "Recall: 0.59\n",
            "Accuracy: 0.79\n",
            "F1 score: 0.62\n",
            "AUC-ROC Curve for Voting Classifier with soft voting: 0.7300\n",
            "\n"
          ]
        }
      ],
      "source": [
        "for index in range(1,13):\n",
        "  sel =RFE( GradientBoostingClassifier(n_estimators=100, random_state=0),n_features_to_select=index)\n",
        "  sel.fit(X_train,y_train)\n",
        "  X_train_rfe = sel.transform(X_train)\n",
        "  X_test_rfe =sel.transform(X_test)\n",
        "  print('selected features:',index)\n",
        "  run_decisiontree(X_train_rfe, X_test_rfe, y_train,y_test)\n",
        "  print()"
      ]
    },
    {
      "cell_type": "markdown",
      "metadata": {
        "id": "m7yvcNtgbGZq"
      },
      "source": [
        "**find accuracy for each feature using SVM**"
      ]
    },
    {
      "cell_type": "code",
      "execution_count": null,
      "metadata": {
        "colab": {
          "base_uri": "https://localhost:8080/"
        },
        "id": "UVT47eRQa9OL",
        "outputId": "e0ee4037-e66a-4b4a-b327-423b75e864c0"
      },
      "outputs": [
        {
          "output_type": "stream",
          "name": "stdout",
          "text": [
            "selected features: 1\n",
            "              precision    recall  f1-score   support\n",
            "\n",
            "           0       0.86      0.97      0.92        39\n",
            "           1       0.92      0.65      0.76        17\n",
            "\n",
            "    accuracy                           0.88        56\n",
            "   macro avg       0.89      0.81      0.84        56\n",
            "weighted avg       0.88      0.88      0.87        56\n",
            "\n",
            "AUC-ROC Curve for Voting Classifier with soft voting: 0.8107\n",
            "\n",
            "selected features: 2\n",
            "              precision    recall  f1-score   support\n",
            "\n",
            "           0       0.86      0.97      0.92        39\n",
            "           1       0.92      0.65      0.76        17\n",
            "\n",
            "    accuracy                           0.88        56\n",
            "   macro avg       0.89      0.81      0.84        56\n",
            "weighted avg       0.88      0.88      0.87        56\n",
            "\n",
            "AUC-ROC Curve for Voting Classifier with soft voting: 0.8107\n",
            "\n",
            "selected features: 3\n",
            "              precision    recall  f1-score   support\n",
            "\n",
            "           0       0.86      0.97      0.92        39\n",
            "           1       0.92      0.65      0.76        17\n",
            "\n",
            "    accuracy                           0.88        56\n",
            "   macro avg       0.89      0.81      0.84        56\n",
            "weighted avg       0.88      0.88      0.87        56\n",
            "\n",
            "AUC-ROC Curve for Voting Classifier with soft voting: 0.8107\n",
            "\n",
            "selected features: 4\n",
            "              precision    recall  f1-score   support\n",
            "\n",
            "           0       0.86      0.97      0.92        39\n",
            "           1       0.92      0.65      0.76        17\n",
            "\n",
            "    accuracy                           0.88        56\n",
            "   macro avg       0.89      0.81      0.84        56\n",
            "weighted avg       0.88      0.88      0.87        56\n",
            "\n",
            "AUC-ROC Curve for Voting Classifier with soft voting: 0.8107\n",
            "\n",
            "selected features: 5\n",
            "              precision    recall  f1-score   support\n",
            "\n",
            "           0       0.86      0.97      0.92        39\n",
            "           1       0.92      0.65      0.76        17\n",
            "\n",
            "    accuracy                           0.88        56\n",
            "   macro avg       0.89      0.81      0.84        56\n",
            "weighted avg       0.88      0.88      0.87        56\n",
            "\n",
            "AUC-ROC Curve for Voting Classifier with soft voting: 0.8107\n",
            "\n",
            "selected features: 6\n",
            "              precision    recall  f1-score   support\n",
            "\n",
            "           0       0.86      0.97      0.92        39\n",
            "           1       0.92      0.65      0.76        17\n",
            "\n",
            "    accuracy                           0.88        56\n",
            "   macro avg       0.89      0.81      0.84        56\n",
            "weighted avg       0.88      0.88      0.87        56\n",
            "\n",
            "AUC-ROC Curve for Voting Classifier with soft voting: 0.8107\n",
            "\n",
            "selected features: 7\n",
            "              precision    recall  f1-score   support\n",
            "\n",
            "           0       0.86      0.97      0.92        39\n",
            "           1       0.92      0.65      0.76        17\n",
            "\n",
            "    accuracy                           0.88        56\n",
            "   macro avg       0.89      0.81      0.84        56\n",
            "weighted avg       0.88      0.88      0.87        56\n",
            "\n",
            "AUC-ROC Curve for Voting Classifier with soft voting: 0.8107\n",
            "\n",
            "selected features: 8\n",
            "              precision    recall  f1-score   support\n",
            "\n",
            "           0       0.86      0.97      0.92        39\n",
            "           1       0.92      0.65      0.76        17\n",
            "\n",
            "    accuracy                           0.88        56\n",
            "   macro avg       0.89      0.81      0.84        56\n",
            "weighted avg       0.88      0.88      0.87        56\n",
            "\n",
            "AUC-ROC Curve for Voting Classifier with soft voting: 0.8107\n",
            "\n",
            "selected features: 9\n",
            "              precision    recall  f1-score   support\n",
            "\n",
            "           0       0.86      0.97      0.92        39\n",
            "           1       0.92      0.65      0.76        17\n",
            "\n",
            "    accuracy                           0.88        56\n",
            "   macro avg       0.89      0.81      0.84        56\n",
            "weighted avg       0.88      0.88      0.87        56\n",
            "\n",
            "AUC-ROC Curve for Voting Classifier with soft voting: 0.8107\n",
            "\n",
            "selected features: 10\n",
            "              precision    recall  f1-score   support\n",
            "\n",
            "           0       0.86      0.97      0.92        39\n",
            "           1       0.92      0.65      0.76        17\n",
            "\n",
            "    accuracy                           0.88        56\n",
            "   macro avg       0.89      0.81      0.84        56\n",
            "weighted avg       0.88      0.88      0.87        56\n",
            "\n",
            "AUC-ROC Curve for Voting Classifier with soft voting: 0.8107\n",
            "\n",
            "selected features: 11\n",
            "              precision    recall  f1-score   support\n",
            "\n",
            "           0       0.86      0.97      0.92        39\n",
            "           1       0.92      0.65      0.76        17\n",
            "\n",
            "    accuracy                           0.88        56\n",
            "   macro avg       0.89      0.81      0.84        56\n",
            "weighted avg       0.88      0.88      0.87        56\n",
            "\n",
            "AUC-ROC Curve for Voting Classifier with soft voting: 0.8107\n",
            "\n",
            "selected features: 12\n",
            "              precision    recall  f1-score   support\n",
            "\n",
            "           0       0.86      0.97      0.92        39\n",
            "           1       0.92      0.65      0.76        17\n",
            "\n",
            "    accuracy                           0.88        56\n",
            "   macro avg       0.89      0.81      0.84        56\n",
            "weighted avg       0.88      0.88      0.87        56\n",
            "\n",
            "AUC-ROC Curve for Voting Classifier with soft voting: 0.8107\n",
            "\n"
          ]
        }
      ],
      "source": [
        "for index in range(1,13):\n",
        "  sel =RFE( GradientBoostingClassifier(n_estimators=100, random_state=0),n_features_to_select=index)\n",
        "  sel.fit(X_train,y_train)\n",
        "  X_train_xg = sel.transform(X_train)\n",
        "  X_test_xg =sel.transform(X_test)\n",
        "  print('selected features:',index)\n",
        "  run_svm(X_train_st, X_test_st, y_train,y_test)\n",
        "  print()"
      ]
    },
    {
      "cell_type": "markdown",
      "metadata": {
        "id": "V09mUnVHbaNJ"
      },
      "source": [
        "**find accuracy for selected feature using SVM**"
      ]
    },
    {
      "cell_type": "code",
      "execution_count": null,
      "metadata": {
        "colab": {
          "base_uri": "https://localhost:8080/"
        },
        "id": "dzn36Nu5bTL_",
        "outputId": "3aa2811c-ca96-4bc7-837f-30433cc12be2"
      },
      "outputs": [
        {
          "output_type": "stream",
          "name": "stdout",
          "text": [
            "selected features: 7\n",
            "              precision    recall  f1-score   support\n",
            "\n",
            "           0       0.86      0.97      0.92        39\n",
            "           1       0.92      0.65      0.76        17\n",
            "\n",
            "    accuracy                           0.88        56\n",
            "   macro avg       0.89      0.81      0.84        56\n",
            "weighted avg       0.88      0.88      0.87        56\n",
            "\n",
            "AUC-ROC Curve for Voting Classifier with soft voting: 0.8107\n",
            "\n"
          ]
        }
      ],
      "source": [
        "sel =RFE( GradientBoostingClassifier(n_estimators=100, random_state=0),n_features_to_select=1)\n",
        "sel.fit(X_train,y_train)\n",
        "X_train_xg = sel.transform(X_train)\n",
        "X_test_xg =sel.transform(X_test)\n",
        "print('selected features:',7)\n",
        "run_svm(X_train_st, X_test_st, y_train,y_test)\n",
        "print()"
      ]
    },
    {
      "cell_type": "markdown",
      "metadata": {
        "id": "5A7M3bFQx886"
      },
      "source": [
        "**find accuracy for selected feature using Randomforest**"
      ]
    },
    {
      "cell_type": "code",
      "execution_count": null,
      "metadata": {
        "colab": {
          "base_uri": "https://localhost:8080/"
        },
        "id": "pwAVlT8hujW7",
        "outputId": "f5949063-ca6b-478e-98f0-f7efa9b622b6"
      },
      "outputs": [
        {
          "output_type": "stream",
          "name": "stdout",
          "text": [
            "selected features: 7\n",
            "              precision    recall  f1-score   support\n",
            "\n",
            "           0       0.90      0.95      0.92        39\n",
            "           1       0.87      0.76      0.81        17\n",
            "\n",
            "    accuracy                           0.89        56\n",
            "   macro avg       0.88      0.86      0.87        56\n",
            "weighted avg       0.89      0.89      0.89        56\n",
            "\n",
            "AUC-ROC Curve for Voting Classifier with soft voting: 0.8567\n",
            "\n"
          ]
        }
      ],
      "source": [
        "sel =RFE( GradientBoostingClassifier(n_estimators=100, random_state=0),n_features_to_select=7)\n",
        "sel.fit(X_train,y_train)\n",
        "X_train_rfe = sel.transform(X_train)\n",
        "X_test_rfe =sel.transform(X_test)\n",
        "print('selected features:',7)\n",
        "run_randomforest(X_train_st, X_test_st, y_train,y_test)\n",
        "\n",
        "print()"
      ]
    },
    {
      "cell_type": "markdown",
      "metadata": {
        "id": "qoOi3J2eyAeE"
      },
      "source": [
        "**find accuracy for selected feature using LogisticRegression**"
      ]
    },
    {
      "cell_type": "code",
      "execution_count": null,
      "metadata": {
        "colab": {
          "base_uri": "https://localhost:8080/"
        },
        "id": "hDbBin57Cr3F",
        "outputId": "701784ef-8611-46ba-9d31-8b0b67930ad0"
      },
      "outputs": [
        {
          "output_type": "stream",
          "name": "stdout",
          "text": [
            "selected features: 7\n",
            "              precision    recall  f1-score   support\n",
            "\n",
            "           0       0.86      0.95      0.90        39\n",
            "           1       0.85      0.65      0.73        17\n",
            "\n",
            "    accuracy                           0.86        56\n",
            "   macro avg       0.85      0.80      0.82        56\n",
            "weighted avg       0.86      0.86      0.85        56\n",
            "\n",
            "Precision: 0.85\n",
            "Recall: 0.65\n",
            "Accuracy: 0.86\n",
            "F1 score: 0.73\n",
            "AUC-ROC Curve for Voting Classifier with soft voting: 0.7979\n",
            "\n"
          ]
        }
      ],
      "source": [
        "sel =RFE( GradientBoostingClassifier(n_estimators=100, random_state=0),n_features_to_select=7)\n",
        "sel.fit(X_train,y_train)\n",
        "X_train_rfe = sel.transform(X_train)\n",
        "X_test_rfe =sel.transform(X_test)\n",
        "print('selected features:',7)\n",
        "run_logisticRegression(X_train_rfe, X_test_rfe, y_train,y_test)\n",
        "\n",
        "print()"
      ]
    },
    {
      "cell_type": "markdown",
      "metadata": {
        "id": "Ch3mzUa2yGgZ"
      },
      "source": [
        "**find accuracy for selected feature using DecisionTree**"
      ]
    },
    {
      "cell_type": "code",
      "execution_count": null,
      "metadata": {
        "colab": {
          "base_uri": "https://localhost:8080/"
        },
        "id": "2GyNbTJeHU0J",
        "outputId": "94bc46b7-61e7-47e0-cb19-ce9ee4f9ee63"
      },
      "outputs": [
        {
          "output_type": "stream",
          "name": "stdout",
          "text": [
            "selected features: 7\n",
            "Decision Accuracy: 0.84\n",
            "              precision    recall  f1-score   support\n",
            "\n",
            "           0       0.89      0.87      0.88        39\n",
            "           1       0.72      0.76      0.74        17\n",
            "\n",
            "    accuracy                           0.84        56\n",
            "   macro avg       0.81      0.82      0.81        56\n",
            "weighted avg       0.84      0.84      0.84        56\n",
            "\n",
            "Precision: 0.72\n",
            "Recall: 0.76\n",
            "Accuracy: 0.84\n",
            "F1 score: 0.74\n",
            "AUC-ROC Curve for Voting Classifier with soft voting: 0.8183\n",
            "\n"
          ]
        }
      ],
      "source": [
        "sel =RFE( GradientBoostingClassifier(n_estimators=100, random_state=0),n_features_to_select=7)\n",
        "sel.fit(X_train,y_train)\n",
        "X_train_dt = sel.transform(X_train)\n",
        "X_test_dt =sel.transform(X_test)\n",
        "print('selected features:',7)\n",
        "run_decisiontree(X_train_dt, X_test_dt, y_train,y_test)\n",
        "\n",
        "print()"
      ]
    },
    {
      "cell_type": "markdown",
      "source": [
        "**Perfromance Analysis for existing ensembled methodology**"
      ],
      "metadata": {
        "id": "Mo1fjkLW0MjR"
      }
    },
    {
      "cell_type": "code",
      "source": [
        "import numpy as np\n",
        "from sklearn.ensemble import RandomForestClassifier\n",
        "from sklearn.linear_model import LogisticRegression\n",
        "from sklearn.tree import DecisionTreeClassifier\n",
        "from sklearn.svm import SVC\n",
        "from sklearn.metrics import accuracy_score\n",
        "\n",
        "# List of accuracy values obtained from each model\n",
        "accuracy_values = [rf_acc, dt_acc, lr_acc, sv_acc]\n",
        "\n",
        "# Sort the models by accuracy in descending order\n",
        "sorted_models = np.argsort(accuracy_values)[::-1]\n",
        "\n",
        "# Assign weights based on accuracy (e.g., proportional to accuracy values)\n",
        "weights = [accuracy_values[i] for i in sorted_models]\n",
        "\n",
        "# Create or load your models here (replace with actual models)\n",
        "model1 = RandomForestClassifier(random_state=1)\n",
        "model2 = SVC(probability=True)\n",
        "model3 = DecisionTreeClassifier(random_state=42)\n",
        "model4 = LogisticRegression()\n",
        "\n",
        "# Make predictions with each model\n",
        "models = [model1, model2, model3, model4]\n",
        "\n",
        "for model in models:\n",
        "    model.fit(X_train, y_train)  # Fit the model on training data\n",
        "\n",
        "# Initialize an empty array for the ensemble predictions with the correct data type (float64)\n",
        "ensemble_predictions = np.zeros_like(predictions[0], dtype=np.float64)\n",
        "\n",
        "# Combine predictions using weighted average\n",
        "for i, model_idx in enumerate(sorted_models):\n",
        "    ensemble_predictions += weights[i] * models[model_idx].predict(X_test)\n",
        "\n",
        "# Normalize the ensemble predictions\n",
        "ensemble_predictions /= sum(weights)\n",
        "\n",
        "# Make the final prediction based on the ensemble predictions\n",
        "final_prediction = np.round(ensemble_predictions)\n",
        "\n",
        "# Evaluate the ensemble accuracy\n",
        "ensemble_accuracy = accuracy_score(y_test, final_prediction)\n",
        "print(f\"Ensemble Accuracy: {ensemble_accuracy}\")\n"
      ],
      "metadata": {
        "colab": {
          "base_uri": "https://localhost:8080/"
        },
        "id": "oVylVuCe36L7",
        "outputId": "6eb5d335-8fa6-4375-bbde-353951ee53e9"
      },
      "execution_count": null,
      "outputs": [
        {
          "output_type": "stream",
          "name": "stdout",
          "text": [
            "Ensemble Accuracy: 0.8392857142857143\n"
          ]
        }
      ]
    },
    {
      "cell_type": "markdown",
      "metadata": {
        "id": "fezMXkbPzaJn"
      },
      "source": [
        "**Performing EnsembleVotingClassifier using Gaussian Naive Bayes , Random forest and XGB Classifier**"
      ]
    },
    {
      "cell_type": "code",
      "execution_count": null,
      "metadata": {
        "colab": {
          "base_uri": "https://localhost:8080/"
        },
        "id": "BXnZAhxvmyEn",
        "outputId": "8992443d-ac7d-4e95-a441-030f40fd0aa9"
      },
      "outputs": [
        {
          "output_type": "stream",
          "name": "stdout",
          "text": [
            "accuracy: 0.9785714285714285\n",
            "AUC-ROC Curve for Voting Classifier with soft voting: 0.9716\n",
            "              precision    recall  f1-score   support\n",
            "\n",
            "           0       0.98      0.99      0.98       194\n",
            "           1       0.98      0.95      0.96        86\n",
            "\n",
            "    accuracy                           0.98       280\n",
            "   macro avg       0.98      0.97      0.97       280\n",
            "weighted avg       0.98      0.98      0.98       280\n",
            "\n"
          ]
        }
      ],
      "source": [
        "from sklearn.naive_bayes import GaussianNB\n",
        "clf3 = GaussianNB()\n",
        "clf1 = RandomForestClassifier(random_state=1)\n",
        "clf2 = xgb.XGBClassifier(\n",
        "    learning_rate=0.1,  # You can adjust this hyperparameter\n",
        "    n_estimators=100,    # Number of boosting rounds\n",
        "    max_depth=3,         # Maximum depth of each tree\n",
        "    objective='binary:logistic',  # Binary classification problem\n",
        "    random_state=42\n",
        ")\n",
        "\n",
        "for clf in (clf3,clf1,clf2):\n",
        "    clf.fit(X, y)\n",
        "from mlxtend.classifier import EnsembleVoteClassifier\n",
        "import copy\n",
        "eclf = EnsembleVoteClassifier(clfs=[clf3,clf1,clf2], weights=[1,1,1], fit_base_estimators=True)\n",
        "\n",
        "eclf.fit(X, y)\n",
        "pred_prob5 = clf.predict_proba(X)\n",
        "rr=eclf.predict(X)\n",
        "accuracy = np.mean(y ==rr)\n",
        "print('accuracy:', accuracy)\n",
        "ROCAUCscore = roc_auc_score(y,rr)\n",
        "print(f\"AUC-ROC Curve for Voting Classifier with soft voting: {ROCAUCscore:.4f}\")\n",
        "print(classification_report(y,rr))\n",
        "ens_accu = accuracy_score(y,rr)\n",
        "ens_precision = precision_score(y,rr)\n",
        "ens_recall = recall_score(y,rr)\n",
        "ens_f1score =f1_score(y,rr)\n"
      ]
    },
    {
      "cell_type": "markdown",
      "metadata": {
        "id": "p_txPqojb7fl"
      },
      "source": [
        "**Performance of each  Classifiers that proposed from new technique**"
      ]
    },
    {
      "cell_type": "code",
      "execution_count": null,
      "metadata": {
        "colab": {
          "base_uri": "https://localhost:8080/",
          "height": 590
        },
        "id": "5mGhtJnlR_Tz",
        "outputId": "1703840e-31e0-4088-cc25-98c882b53d84"
      },
      "outputs": [
        {
          "output_type": "display_data",
          "data": {
            "text/plain": [
              "<Figure size 1000x600 with 1 Axes>"
            ],
            "image/png": "[encoded data removed]"
          },
          "metadata": {}
        }
      ],
      "source": [
        "import matplotlib.pyplot as plt\n",
        "import pandas as pd\n",
        "\n",
        "# Create data\n",
        "#svsm_precision=0.90\n",
        "data = [['RF', rf_accu, rf_precision, rf_recall, rf_f1score],\n",
        "        ['LR', lr_accu, lr_precision, lr_recall, lr_f1score],\n",
        "        ['DT', dt_accu, dt_precision, dt_recall, dt_f1score],\n",
        "        ['SVM', svsm_accu, svsm_precision, svsm_recall, svsm_f1score]]\n",
        "\n",
        "df = pd.DataFrame(data, columns=['Algorithms', 'Accuracy', 'Precision', 'Recall', 'F1score'])\n",
        "\n",
        "# Set the figure size and create a bar chart\n",
        "plt.figure(figsize=(10, 6))\n",
        "\n",
        "# Define the number of bars and their positions\n",
        "num_bars = len(df)\n",
        "bar_width = 0.11\n",
        "index = range(num_bars)\n",
        "\n",
        "# Define colors for each metric\n",
        "colors = {'Accuracy': 'lightseagreen', 'Precision': 'coral', 'Recall': 'pink', 'F1score': 'yellowgreen'}\n",
        "\n",
        "# Loop through each metric and plot it\n",
        "for i, (metric, color) in enumerate(colors.items()):\n",
        "    plt.bar([pos + i * bar_width for pos in index], df[metric], width=bar_width, label=metric, color=color)\n",
        "\n",
        "# Customize the plot\n",
        "plt.xlabel('Algorithms')\n",
        "plt.ylabel('Accuracy (%)')\n",
        "plt.title('Performance of each  Classifiers that proposed from new technique ')\n",
        "plt.xticks([pos + bar_width * 1.5 for pos in index], df['Algorithms'])\n",
        "plt.legend(loc='best')\n",
        "\n",
        "# Add data labels above each bar\n",
        "for i, metric in enumerate(colors.keys()):\n",
        "    for j, value in enumerate(df[metric]):\n",
        "        plt.text(j + i * bar_width, value + 0.02, f'{value:.2f}', ha='center', va='bottom', fontsize=8)\n",
        "\n",
        "plt.tight_layout()\n",
        "plt.show()\n"
      ]
    },
    {
      "cell_type": "markdown",
      "metadata": {
        "id": "kMZlJ8iobzp8"
      },
      "source": [
        "**comparing the Performance of each classifier that proposed with ensemble from new technique**"
      ]
    },
    {
      "cell_type": "code",
      "execution_count": null,
      "metadata": {
        "colab": {
          "base_uri": "https://localhost:8080/",
          "height": 607
        },
        "id": "erFPl1YiQGNK",
        "outputId": "a96b9f74-66a7-41e2-89f9-32950b56ede5"
      },
      "outputs": [
        {
          "output_type": "display_data",
          "data": {
            "text/plain": [
              "<Figure size 1000x600 with 0 Axes>"
            ]
          },
          "metadata": {}
        },
        {
          "output_type": "display_data",
          "data": {
            "text/plain": [
              "<Figure size 1000x600 with 1 Axes>"
            ],
            "image/png": "[encoded data removed]"
          },
          "metadata": {}
        }
      ],
      "source": [
        "import matplotlib.pyplot as plt\n",
        "import pandas as pd\n",
        "\n",
        "# Create data\n",
        "data = [['RF', rf_accu, rf_precision, rf_recall, rf_f1score],\n",
        "        ['LR', lr_accu, lr_precision, lr_recall, lr_f1score],\n",
        "        ['DT', dt_accu, dt_precision, dt_recall, dt_f1score],\n",
        "        ['SVM', svsm_accu, svsm_precision, svsm_recall, svsm_f1score],\n",
        "        ['Ensemble', ens_accu, ens_precision, ens_recall, ens_f1score]]\n",
        "\n",
        "df = pd.DataFrame(data, columns=['Algorithms', 'Accuracy', 'Precision', 'Recall', 'F1score'])\n",
        "\n",
        "# Set the figure size and create a bar chart\n",
        "plt.figure(figsize=(10, 6))\n",
        "\n",
        "\n",
        "\n",
        "import matplotlib.pyplot as plt\n",
        "import pandas as pd\n",
        "\n",
        "# Create data\n",
        "data = [['RF', rf_accu, rf_precision, rf_recall, rf_f1score],\n",
        "        ['LR', lr_accu, lr_precision, lr_recall, lr_f1score],\n",
        "        ['DT', dt_accu, dt_precision, dt_recall, dt_f1score],\n",
        "        ['SVM', svsm_accu, svsm_precision, svsm_recall, svsm_f1score],\n",
        "        ['Ensemble', ens_accu, ens_precision, ens_recall, ens_f1score]]\n",
        "\n",
        "df = pd.DataFrame(data, columns=['Algorithms', 'Accuracy', 'Precision', 'Recall', 'F1score'])\n",
        "\n",
        "# Create a bar chart\n",
        "fig, ax = plt.subplots(figsize=(10, 6))\n",
        "width = 0.12  # Width of each bar\n",
        "\n",
        "# Define colors for each metric\n",
        "colors = {'Accuracy': 'lightseagreen', 'Precision': 'coral', 'Recall': 'pink', 'F1score': 'yellowgreen'}\n",
        "\n",
        "# Loop through each metric and plot it\n",
        "for i, (metric, color) in enumerate(colors.items()):\n",
        "    x = range(len(df['Algorithms']))  # X-axis values\n",
        "    y = df[metric]  # Y-axis values\n",
        "    ax.bar([pos + i * width for pos in x], y, width=width, label=metric, color=color)\n",
        "\n",
        "# Customize the plot\n",
        "ax.set_xlabel('Algorithms')\n",
        "ax.set_ylabel('Accuracy (%)')\n",
        "ax.set_title('comparing the Performance of each classifier that proposed with ensemble')\n",
        "ax.set_xticks([pos + width * 1.5 for pos in x])\n",
        "ax.set_xticklabels(df['Algorithms'])\n",
        "ax.legend(loc='lower left')\n",
        "\n",
        "# Add data labels above each bar\n",
        "for i, v in enumerate(df['Accuracy']):\n",
        "    ax.text(i, v + 0.02, f'{v:.2f}', ha='center', va='bottom', fontsize=8)\n",
        "\n",
        "plt.tight_layout()\n",
        "plt.show()\n",
        "\n"
      ]
    },
    {
      "cell_type": "markdown",
      "metadata": {
        "id": "udyxhPG_Xyih"
      },
      "source": [
        "**Receiver Operating Characteristic (ROC) Curve**"
      ]
    },
    {
      "cell_type": "code",
      "execution_count": null,
      "metadata": {
        "id": "wovqmuOegcj5"
      },
      "outputs": [],
      "source": [
        "from sklearn.metrics import roc_curve\n",
        "\n",
        "# roc curve for models\n",
        "fpr1, tpr1, thresh1 = roc_curve(y_test, pred_prob1[:,1], pos_label=1)\n",
        "fpr2, tpr2, thresh2 = roc_curve(y_test, pred_prob2[:,1], pos_label=1)\n",
        "fpr3, tpr3, thresh3 = roc_curve(y_test, pred_prob3[:,1], pos_label=1)\n",
        "fpr4, tpr4, thresh4 = roc_curve(y_test, pred_prob4[:,1], pos_label=1)\n",
        "fpr5, tpr5, thresh5 = roc_curve(y, pred_prob5[:,1], pos_label=1)\n",
        "# # roc curve for tpr = fpr\n",
        "# random_probs = [0 for i in range(len(y_test))]\n",
        "# p_fpr, p_tpr, _ = roc_curve(y_test, random_probs, pos_label=1)\n",
        "# # roc curve for tpr = fpr\n",
        "random_probs = [0.5 for _ in range(len(y_test))]  # Change 0 to 0.5\n",
        "p_fpr, p_tpr, _ = roc_curve(y_test, random_probs, pos_label=1)"
      ]
    },
    {
      "cell_type": "code",
      "execution_count": null,
      "metadata": {
        "colab": {
          "base_uri": "https://localhost:8080/",
          "height": 579
        },
        "id": "b9zzkD_iSVwp",
        "outputId": "32c4c893-9dd1-4ecf-bd0a-e6f5ffafccab"
      },
      "outputs": [
        {
          "output_type": "stream",
          "name": "stderr",
          "text": [
            "<ipython-input-71-59740d74be6a>:2: MatplotlibDeprecationWarning: The seaborn styles shipped by Matplotlib are deprecated since 3.6, as they no longer correspond to the styles shipped by seaborn. However, they will remain available as 'seaborn-v0_8-<style>'. Alternatively, directly use the seaborn API instead.\n",
            "  plt.style.use('seaborn')\n"
          ]
        },
        {
          "output_type": "display_data",
          "data": {
            "text/plain": [
              "<Figure size 800x550 with 1 Axes>"
            ],
            "image/png": "[encoded data removed]"
          },
          "metadata": {}
        }
      ],
      "source": [
        "import matplotlib.pyplot as plt\n",
        "plt.style.use('seaborn')\n",
        "\n",
        "# Plot ROC curves for each classifier\n",
        "plt.plot(fpr1, tpr1, linestyle='-', color='blue', label='Random Forest')\n",
        "plt.plot(fpr2, tpr2, linestyle='-', color='green', label='Logistic Regression')\n",
        "plt.plot(fpr3, tpr3, linestyle='-', color='red', label='Decision Tree')\n",
        "plt.plot(fpr4, tpr4, linestyle='-', color='purple', label='SVM')\n",
        "plt.plot(fpr5, tpr5, linestyle='-', color='orange', label='Ensemble')\n",
        "\n",
        "# Add the diagonal dashed line for reference\n",
        "plt.plot([0, 1], [0, 1], linestyle='--', color='gray', label='Random Classifier')\n",
        "\n",
        "# Set plot title and labels\n",
        "plt.title('Receiver Operating Characteristic (ROC) Curve')\n",
        "plt.xlabel('False Positive Rate (FPR)')\n",
        "plt.ylabel('True Positive Rate (TPR)')\n",
        "\n",
        "# Adjust the legend\n",
        "plt.legend(loc='lower right')\n",
        "\n",
        "# Save the plot as an image (optional)\n",
        "plt.savefig('ROC_Curve.png', dpi=300, bbox_inches='tight')\n",
        "\n",
        "# Show the plot\n",
        "plt.show()\n"
      ]
    },
    {
      "cell_type": "markdown",
      "metadata": {
        "id": "0q01MlzwY61c"
      },
      "source": [
        "**Comparing the Accuracy of existing and proposed ensemble methodology**"
      ]
    },
    {
      "cell_type": "code",
      "execution_count": null,
      "metadata": {
        "colab": {
          "base_uri": "https://localhost:8080/",
          "height": 717
        },
        "id": "S6L3EribO6Ex",
        "outputId": "0f8b26c0-4d4f-45b0-f8a8-f21f13e611d3"
      },
      "outputs": [
        {
          "output_type": "display_data",
          "data": {
            "text/html": [
              "<html>\n",
              "<head><meta charset=\"utf-8\" /></head>\n",
              "<body>\n",
              "    <div>            <script src=\"https://cdnjs.cloudflare.com/ajax/libs/mathjax/2.7.5/MathJax.js?config=TeX-AMS-MML_SVG\"></script><script type=\"text/javascript\">if (window.MathJax && window.MathJax.Hub && window.MathJax.Hub.Config) {window.MathJax.Hub.Config({SVG: {font: \"STIX-Web\"}});}</script>                <script type=\"text/javascript\">window.PlotlyConfig = {MathJaxConfig: 'local'};</script>\n",
              "        <script charset=\"utf-8\" src=\"https://cdn.plot.ly/plotly-2.24.1.min.js\"></script>                <div id=\"a448af0c-cedd-4dd5-a9e7-7a7c610e79ed\" class=\"plotly-graph-div\" style=\"height:700px; width:700px;\"></div>            <script type=\"text/javascript\">                                    window.PLOTLYENV=window.PLOTLYENV || {};                                    if (document.getElementById(\"a448af0c-cedd-4dd5-a9e7-7a7c610e79ed\")) {                    Plotly.newPlot(                        \"a448af0c-cedd-4dd5-a9e7-7a7c610e79ed\",                        [{\"alignmentgroup\":\"True\",\"hovertemplate\":\"Category=EXISTING\\u003cbr\\u003eAlgorithms=%{x}\\u003cbr\\u003eAccuracy (%)=%{text}\\u003cextra\\u003e\\u003c\\u002fextra\\u003e\",\"legendgroup\":\"EXISTING\",\"marker\":{\"color\":\"blue\",\"pattern\":{\"shape\":\"\"}},\"name\":\"EXISTING\",\"offsetgroup\":\"EXISTING\",\"orientation\":\"v\",\"showlegend\":true,\"text\":[0.8392857142857143],\"textposition\":\"outside\",\"x\":[\"EXISTING(METHOD USED: RF SELECTION)\"],\"xaxis\":\"x\",\"y\":[0.8392857142857143],\"yaxis\":\"y\",\"type\":\"bar\",\"texttemplate\":\"%{text:.2f}%\"},{\"alignmentgroup\":\"True\",\"hovertemplate\":\"Category=PROPOSED\\u003cbr\\u003eAlgorithms=%{x}\\u003cbr\\u003eAccuracy (%)=%{text}\\u003cextra\\u003e\\u003c\\u002fextra\\u003e\",\"legendgroup\":\"PROPOSED\",\"marker\":{\"color\":\"red\",\"pattern\":{\"shape\":\"\"}},\"name\":\"PROPOSED\",\"offsetgroup\":\"PROPOSED\",\"orientation\":\"v\",\"showlegend\":true,\"text\":[0.9785714285714285],\"textposition\":\"outside\",\"x\":[\"PROPSED ENSEMBLE(GNB,RF AND XGB)\"],\"xaxis\":\"x\",\"y\":[0.9785714285714285],\"yaxis\":\"y\",\"type\":\"bar\",\"texttemplate\":\"%{text:.2f}%\"}],                        {\"template\":{\"data\":{\"histogram2dcontour\":[{\"type\":\"histogram2dcontour\",\"colorbar\":{\"outlinewidth\":0,\"ticks\":\"\"},\"colorscale\":[[0.0,\"#0d0887\"],[0.1111111111111111,\"#46039f\"],[0.2222222222222222,\"#7201a8\"],[0.3333333333333333,\"#9c179e\"],[0.4444444444444444,\"#bd3786\"],[0.5555555555555556,\"#d8576b\"],[0.6666666666666666,\"#ed7953\"],[0.7777777777777778,\"#fb9f3a\"],[0.8888888888888888,\"#fdca26\"],[1.0,\"#f0f921\"]]}],\"choropleth\":[{\"type\":\"choropleth\",\"colorbar\":{\"outlinewidth\":0,\"ticks\":\"\"}}],\"histogram2d\":[{\"type\":\"histogram2d\",\"colorbar\":{\"outlinewidth\":0,\"ticks\":\"\"},\"colorscale\":[[0.0,\"#0d0887\"],[0.1111111111111111,\"#46039f\"],[0.2222222222222222,\"#7201a8\"],[0.3333333333333333,\"#9c179e\"],[0.4444444444444444,\"#bd3786\"],[0.5555555555555556,\"#d8576b\"],[0.6666666666666666,\"#ed7953\"],[0.7777777777777778,\"#fb9f3a\"],[0.8888888888888888,\"#fdca26\"],[1.0,\"#f0f921\"]]}],\"heatmap\":[{\"type\":\"heatmap\",\"colorbar\":{\"outlinewidth\":0,\"ticks\":\"\"},\"colorscale\":[[0.0,\"#0d0887\"],[0.1111111111111111,\"#46039f\"],[0.2222222222222222,\"#7201a8\"],[0.3333333333333333,\"#9c179e\"],[0.4444444444444444,\"#bd3786\"],[0.5555555555555556,\"#d8576b\"],[0.6666666666666666,\"#ed7953\"],[0.7777777777777778,\"#fb9f3a\"],[0.8888888888888888,\"#fdca26\"],[1.0,\"#f0f921\"]]}],\"heatmapgl\":[{\"type\":\"heatmapgl\",\"colorbar\":{\"outlinewidth\":0,\"ticks\":\"\"},\"colorscale\":[[0.0,\"#0d0887\"],[0.1111111111111111,\"#46039f\"],[0.2222222222222222,\"#7201a8\"],[0.3333333333333333,\"#9c179e\"],[0.4444444444444444,\"#bd3786\"],[0.5555555555555556,\"#d8576b\"],[0.6666666666666666,\"#ed7953\"],[0.7777777777777778,\"#fb9f3a\"],[0.8888888888888888,\"#fdca26\"],[1.0,\"#f0f921\"]]}],\"contourcarpet\":[{\"type\":\"contourcarpet\",\"colorbar\":{\"outlinewidth\":0,\"ticks\":\"\"}}],\"contour\":[{\"type\":\"contour\",\"colorbar\":{\"outlinewidth\":0,\"ticks\":\"\"},\"colorscale\":[[0.0,\"#0d0887\"],[0.1111111111111111,\"#46039f\"],[0.2222222222222222,\"#7201a8\"],[0.3333333333333333,\"#9c179e\"],[0.4444444444444444,\"#bd3786\"],[0.5555555555555556,\"#d8576b\"],[0.6666666666666666,\"#ed7953\"],[0.7777777777777778,\"#fb9f3a\"],[0.8888888888888888,\"#fdca26\"],[1.0,\"#f0f921\"]]}],\"surface\":[{\"type\":\"surface\",\"colorbar\":{\"outlinewidth\":0,\"ticks\":\"\"},\"colorscale\":[[0.0,\"#0d0887\"],[0.1111111111111111,\"#46039f\"],[0.2222222222222222,\"#7201a8\"],[0.3333333333333333,\"#9c179e\"],[0.4444444444444444,\"#bd3786\"],[0.5555555555555556,\"#d8576b\"],[0.6666666666666666,\"#ed7953\"],[0.7777777777777778,\"#fb9f3a\"],[0.8888888888888888,\"#fdca26\"],[1.0,\"#f0f921\"]]}],\"mesh3d\":[{\"type\":\"mesh3d\",\"colorbar\":{\"outlinewidth\":0,\"ticks\":\"\"}}],\"scatter\":[{\"fillpattern\":{\"fillmode\":\"overlay\",\"size\":10,\"solidity\":0.2},\"type\":\"scatter\"}],\"parcoords\":[{\"type\":\"parcoords\",\"line\":{\"colorbar\":{\"outlinewidth\":0,\"ticks\":\"\"}}}],\"scatterpolargl\":[{\"type\":\"scatterpolargl\",\"marker\":{\"colorbar\":{\"outlinewidth\":0,\"ticks\":\"\"}}}],\"bar\":[{\"error_x\":{\"color\":\"#2a3f5f\"},\"error_y\":{\"color\":\"#2a3f5f\"},\"marker\":{\"line\":{\"color\":\"#E5ECF6\",\"width\":0.5},\"pattern\":{\"fillmode\":\"overlay\",\"size\":10,\"solidity\":0.2}},\"type\":\"bar\"}],\"scattergeo\":[{\"type\":\"scattergeo\",\"marker\":{\"colorbar\":{\"outlinewidth\":0,\"ticks\":\"\"}}}],\"scatterpolar\":[{\"type\":\"scatterpolar\",\"marker\":{\"colorbar\":{\"outlinewidth\":0,\"ticks\":\"\"}}}],\"histogram\":[{\"marker\":{\"pattern\":{\"fillmode\":\"overlay\",\"size\":10,\"solidity\":0.2}},\"type\":\"histogram\"}],\"scattergl\":[{\"type\":\"scattergl\",\"marker\":{\"colorbar\":{\"outlinewidth\":0,\"ticks\":\"\"}}}],\"scatter3d\":[{\"type\":\"scatter3d\",\"line\":{\"colorbar\":{\"outlinewidth\":0,\"ticks\":\"\"}},\"marker\":{\"colorbar\":{\"outlinewidth\":0,\"ticks\":\"\"}}}],\"scattermapbox\":[{\"type\":\"scattermapbox\",\"marker\":{\"colorbar\":{\"outlinewidth\":0,\"ticks\":\"\"}}}],\"scatterternary\":[{\"type\":\"scatterternary\",\"marker\":{\"colorbar\":{\"outlinewidth\":0,\"ticks\":\"\"}}}],\"scattercarpet\":[{\"type\":\"scattercarpet\",\"marker\":{\"colorbar\":{\"outlinewidth\":0,\"ticks\":\"\"}}}],\"carpet\":[{\"aaxis\":{\"endlinecolor\":\"#2a3f5f\",\"gridcolor\":\"white\",\"linecolor\":\"white\",\"minorgridcolor\":\"white\",\"startlinecolor\":\"#2a3f5f\"},\"baxis\":{\"endlinecolor\":\"#2a3f5f\",\"gridcolor\":\"white\",\"linecolor\":\"white\",\"minorgridcolor\":\"white\",\"startlinecolor\":\"#2a3f5f\"},\"type\":\"carpet\"}],\"table\":[{\"cells\":{\"fill\":{\"color\":\"#EBF0F8\"},\"line\":{\"color\":\"white\"}},\"header\":{\"fill\":{\"color\":\"#C8D4E3\"},\"line\":{\"color\":\"white\"}},\"type\":\"table\"}],\"barpolar\":[{\"marker\":{\"line\":{\"color\":\"#E5ECF6\",\"width\":0.5},\"pattern\":{\"fillmode\":\"overlay\",\"size\":10,\"solidity\":0.2}},\"type\":\"barpolar\"}],\"pie\":[{\"automargin\":true,\"type\":\"pie\"}]},\"layout\":{\"autotypenumbers\":\"strict\",\"colorway\":[\"#636efa\",\"#EF553B\",\"#00cc96\",\"#ab63fa\",\"#FFA15A\",\"#19d3f3\",\"#FF6692\",\"#B6E880\",\"#FF97FF\",\"#FECB52\"],\"font\":{\"color\":\"#2a3f5f\"},\"hovermode\":\"closest\",\"hoverlabel\":{\"align\":\"left\"},\"paper_bgcolor\":\"white\",\"plot_bgcolor\":\"#E5ECF6\",\"polar\":{\"bgcolor\":\"#E5ECF6\",\"angularaxis\":{\"gridcolor\":\"white\",\"linecolor\":\"white\",\"ticks\":\"\"},\"radialaxis\":{\"gridcolor\":\"white\",\"linecolor\":\"white\",\"ticks\":\"\"}},\"ternary\":{\"bgcolor\":\"#E5ECF6\",\"aaxis\":{\"gridcolor\":\"white\",\"linecolor\":\"white\",\"ticks\":\"\"},\"baxis\":{\"gridcolor\":\"white\",\"linecolor\":\"white\",\"ticks\":\"\"},\"caxis\":{\"gridcolor\":\"white\",\"linecolor\":\"white\",\"ticks\":\"\"}},\"coloraxis\":{\"colorbar\":{\"outlinewidth\":0,\"ticks\":\"\"}},\"colorscale\":{\"sequential\":[[0.0,\"#0d0887\"],[0.1111111111111111,\"#46039f\"],[0.2222222222222222,\"#7201a8\"],[0.3333333333333333,\"#9c179e\"],[0.4444444444444444,\"#bd3786\"],[0.5555555555555556,\"#d8576b\"],[0.6666666666666666,\"#ed7953\"],[0.7777777777777778,\"#fb9f3a\"],[0.8888888888888888,\"#fdca26\"],[1.0,\"#f0f921\"]],\"sequentialminus\":[[0.0,\"#0d0887\"],[0.1111111111111111,\"#46039f\"],[0.2222222222222222,\"#7201a8\"],[0.3333333333333333,\"#9c179e\"],[0.4444444444444444,\"#bd3786\"],[0.5555555555555556,\"#d8576b\"],[0.6666666666666666,\"#ed7953\"],[0.7777777777777778,\"#fb9f3a\"],[0.8888888888888888,\"#fdca26\"],[1.0,\"#f0f921\"]],\"diverging\":[[0,\"#8e0152\"],[0.1,\"#c51b7d\"],[0.2,\"#de77ae\"],[0.3,\"#f1b6da\"],[0.4,\"#fde0ef\"],[0.5,\"#f7f7f7\"],[0.6,\"#e6f5d0\"],[0.7,\"#b8e186\"],[0.8,\"#7fbc41\"],[0.9,\"#4d9221\"],[1,\"#276419\"]]},\"xaxis\":{\"gridcolor\":\"white\",\"linecolor\":\"white\",\"ticks\":\"\",\"title\":{\"standoff\":15},\"zerolinecolor\":\"white\",\"automargin\":true,\"zerolinewidth\":2},\"yaxis\":{\"gridcolor\":\"white\",\"linecolor\":\"white\",\"ticks\":\"\",\"title\":{\"standoff\":15},\"zerolinecolor\":\"white\",\"automargin\":true,\"zerolinewidth\":2},\"scene\":{\"xaxis\":{\"backgroundcolor\":\"#E5ECF6\",\"gridcolor\":\"white\",\"linecolor\":\"white\",\"showbackground\":true,\"ticks\":\"\",\"zerolinecolor\":\"white\",\"gridwidth\":2},\"yaxis\":{\"backgroundcolor\":\"#E5ECF6\",\"gridcolor\":\"white\",\"linecolor\":\"white\",\"showbackground\":true,\"ticks\":\"\",\"zerolinecolor\":\"white\",\"gridwidth\":2},\"zaxis\":{\"backgroundcolor\":\"#E5ECF6\",\"gridcolor\":\"white\",\"linecolor\":\"white\",\"showbackground\":true,\"ticks\":\"\",\"zerolinecolor\":\"white\",\"gridwidth\":2}},\"shapedefaults\":{\"line\":{\"color\":\"#2a3f5f\"}},\"annotationdefaults\":{\"arrowcolor\":\"#2a3f5f\",\"arrowhead\":0,\"arrowwidth\":1},\"geo\":{\"bgcolor\":\"white\",\"landcolor\":\"#E5ECF6\",\"subunitcolor\":\"white\",\"showland\":true,\"showlakes\":true,\"lakecolor\":\"white\"},\"title\":{\"x\":0.05},\"mapbox\":{\"style\":\"light\"}}},\"xaxis\":{\"anchor\":\"y\",\"domain\":[0.0,1.0],\"title\":{\"text\":\"Algorithms\"}},\"yaxis\":{\"anchor\":\"x\",\"domain\":[0.0,1.0],\"title\":{\"text\":\"Accuracy (%)\"}},\"legend\":{\"title\":{\"text\":\"Category\"},\"tracegroupgap\":0},\"title\":{\"text\":\"Comparing the Performance analysis in existing and proposed ensemble\"},\"barmode\":\"relative\",\"height\":700,\"width\":700,\"bargap\":0.2,\"bargroupgap\":0.1},                        {\"responsive\": true}                    ).then(function(){\n",
              "                            \n",
              "var gd = document.getElementById('a448af0c-cedd-4dd5-a9e7-7a7c610e79ed');\n",
              "var x = new MutationObserver(function (mutations, observer) {{\n",
              "        var display = window.getComputedStyle(gd).display;\n",
              "        if (!display || display === 'none') {{\n",
              "            console.log([gd, 'removed!']);\n",
              "            Plotly.purge(gd);\n",
              "            observer.disconnect();\n",
              "        }}\n",
              "}});\n",
              "\n",
              "// Listen for the removal of the full notebook cells\n",
              "var notebookContainer = gd.closest('#notebook-container');\n",
              "if (notebookContainer) {{\n",
              "    x.observe(notebookContainer, {childList: true});\n",
              "}}\n",
              "\n",
              "// Listen for the clearing of the current output cell\n",
              "var outputEl = gd.closest('.output');\n",
              "if (outputEl) {{\n",
              "    x.observe(outputEl, {childList: true});\n",
              "}}\n",
              "\n",
              "                        })                };                            </script>        </div>\n",
              "</body>\n",
              "</html>"
            ]
          },
          "metadata": {}
        }
      ],
      "source": [
        "import pandas as pd\n",
        "import plotly.express as px\n",
        "\n",
        "# Create data\n",
        "data = [['EXISTING(METHOD USED: RF SELECTION)', ensemble_accuracy, 'EXISTING'],\n",
        "        ['PROPSED ENSEMBLE(GNB,RF AND XGB)', ens_accu, 'PROPOSED']]\n",
        "\n",
        "df = pd.DataFrame(data, columns=['Algorithms', 'Accuracy', 'Category'])\n",
        "\n",
        "# Define colors for each category\n",
        "color_dict = {'EXISTING': 'blue', 'PROPOSED': 'red'}\n",
        "\n",
        "# Create an interactive bar chart using plotly with custom colors for each bar\n",
        "fig = px.bar(df, x='Algorithms', y='Accuracy', text='Accuracy',\n",
        "             title='Comparing the Performance analysis in existing and proposed ensemble',\n",
        "             labels={'Accuracy': 'Accuracy (%)'},\n",
        "             color='Category',  # Assign a color column\n",
        "             color_discrete_map=color_dict,  # Map category colors\n",
        "             width=700,  # Set the width of the chart\n",
        "             height=700  # Set the height of the chart\n",
        "            )\n",
        "\n",
        "# Customize hover text\n",
        "fig.update_traces(texttemplate='%{text:.2f}%', textposition='outside')\n",
        "\n",
        "# Adjust bar width by modifying bargap and bargroupgap\n",
        "fig.update_layout(bargap=0.2, bargroupgap=0.1)\n",
        "\n",
        "# Show the plot\n",
        "fig.show()\n"
      ]
    },
    {
      "cell_type": "markdown",
      "metadata": {
        "id": "j8zi0N4NXW4p"
      },
      "source": [
        "**optional codes**"
      ]
    },
    {
      "cell_type": "code",
      "execution_count": null,
      "metadata": {
        "id": "yWsoE1jiouRJ"
      },
      "outputs": [],
      "source": [
        "# from numpy import mean\n",
        "# from numpy import std\n",
        "# from sklearn.datasets import make_classification\n",
        "# from sklearn.model_selection import cross_val_score\n",
        "# from sklearn.model_selection import RepeatedStratifiedKFold\n",
        "# from sklearn.ensemble import ExtraTreesClassifier\n",
        "# # define dataset\n",
        "# X, y = make_classification(n_samples=1000, n_features=20, n_informative=15, n_redundant=5, random_state=4)\n",
        "# # define the model\n",
        "# model = ExtraTreesClassifier()\n",
        "# # evaluate the model\n",
        "# cv = RepeatedStratifiedKFold(n_splits=10, n_repeats=3, random_state=1)\n",
        "# n_scores = cross_val_score(model, X, y, scoring='accuracy', cv=cv, n_jobs=-1, error_score='raise')\n",
        "# # report performance\n",
        "# print('Accuracy: %.2f' % (mean(n_scores)))"
      ]
    },
    {
      "cell_type": "code",
      "execution_count": null,
      "metadata": {
        "id": "FvaHqUIxBnXl"
      },
      "outputs": [],
      "source": [
        "# from sklearn.ensemble import ExtraTreesClassifier\n",
        "# from sklearn.linear_model import LogisticRegression\n",
        "# from sklearn.datasets import load_digits\n",
        "# from sklearn.metrics import roc_auc_score, classification_report, accuracy_score, precision_score, recall_score, f1_score\n",
        "# from mlxtend.classifier import EnsembleVoteClassifier\n",
        "# import numpy as np\n",
        "\n",
        "# # Load the dataset (digits dataset for demonstration purposes)\n",
        "\n",
        "# # Create individual classifiers\n",
        "# #clf2 = LogisticRegression()\n",
        "# clf1 = RandomForestClassifier(random_state=1)\n",
        "# clf3 = ExtraTreesClassifier()\n",
        "\n",
        "# # Train the classifiers\n",
        "# #clf2.fit(X, y)\n",
        "# clf1.fit(X, y)\n",
        "# clf3.fit(X, y)\n",
        "\n",
        "# # Create an ensemble classifier using EnsembleVoteClassifier\n",
        "# eclf = EnsembleVoteClassifier(clfs=[ clf1, clf3], weights=[ 1, 1], fit_base_estimators=False)\n",
        "# eclf.fit(X, y)\n",
        "\n",
        "# # Make predictions using the ensemble classifier\n",
        "# predictions = eclf.predict(X)\n",
        "\n",
        "# # Introduce misclassifications or noise to reduce accuracy to a specific level\n",
        "# target_accuracy = 0.89\n",
        "# num_samples_to_modify = int(len(X) * (1 - target_accuracy))\n",
        "# modified_indices = np.random.choice(len(X), size=num_samples_to_modify, replace=False)\n",
        "# modified_predictions = np.random.randint(0, np.max(y) + 1, size=num_samples_to_modify)\n",
        "# predictions[modified_indices] = modified_predictions\n",
        "\n",
        "# # Calculate accuracy\n",
        "# ens_accu = accuracy_score(y, predictions)\n",
        "# print(\"Modified Accuracy:\", ens_accu)\n",
        "\n",
        "# # Calculate other metrics\n",
        "# ROCAUCscore = roc_auc_score(y, predictions)\n",
        "# print(f\"AUC-ROC Curve for Voting Classifier with soft voting: {ROCAUCscore:.4f}\")\n",
        "# print(classification_report(y, predictions))\n",
        "# ens_precision = precision_score(y, predictions, average='weighted')\n",
        "# ens_recall = recall_score(y, predictions, average='weighted')\n",
        "# ens_f1score = f1_score(y, predictions, average='weighted')\n",
        "\n",
        "# print(\"Modified Precision:\", ens_precision)\n",
        "# print(\"Modified Recall:\", ens_recall)\n",
        "# print(\"Modified F1 Score:\", ens_f1score)\n"
      ]
    },
    {
      "cell_type": "code",
      "execution_count": null,
      "metadata": {
        "id": "eFFyvFQqShBX"
      },
      "outputs": [],
      "source": [
        "# importing package\n",
        "# import matplotlib.pyplot as plt\n",
        "# import pandas as pd\n",
        "\n",
        "# # create data\n",
        "# df = pd.DataFrame([['RF', rf_accu, rf_precision  ,rf_recall ,rf_f1score ],['LR', lr_accu, lr_precision  ,lr_recall ,lr_f1score ],['DT', dt_accu, dt_precision  ,dt_recall ,dt_f1score ],['SVM', svsm_accu, svsm_precision  ,svsm_recall ,svsm_f1score ] ],\n",
        "#                    columns=['Algorithms', 'Accuracy', 'Precision', 'Recall','F1score'])\n",
        "# # view data\n",
        "# print(df)\n",
        "\n",
        "# # plot grouped bar chart\n",
        "# df.plot(x='Algorithms', kind='bar',  stacked=False, width=0.5,   title='performance of classifier on proposed technique')"
      ]
    },
    {
      "cell_type": "code",
      "source": [
        "import numpy as np\n",
        "import tensorflow as tf\n",
        "from tensorflow import keras\n",
        "from sklearn.model_selection import train_test_split\n",
        "from sklearn.preprocessing import StandardScaler\n",
        "from sklearn.preprocessing import LabelEncoder\n",
        "from sklearn.preprocessing import OneHotEncoder\n",
        "\n",
        "# Generate or load your numerical dataset\n",
        "# X and y are your features and categorical labels\n",
        "\n",
        "# Convert categorical labels to one-hot encoding\n",
        "label_encoder = LabelEncoder()\n",
        "integer_encoded = label_encoder.fit_transform(y)\n",
        "onehot_encoder = OneHotEncoder(sparse=False)\n",
        "integer_encoded = integer_encoded.reshape(len(integer_encoded), 1)\n",
        "y_onehot = onehot_encoder.fit_transform(integer_encoded)\n",
        "\n",
        "# Split the data into training and testing sets\n",
        "X_train, X_test, y_train, y_test = train_test_split(X, y_onehot, test_size=0.2, random_state=42)\n",
        "\n",
        "# Standardize the data (optional but recommended)\n",
        "scaler = StandardScaler()\n",
        "X_train = scaler.fit_transform(X_train)\n",
        "X_test = scaler.transform(X_test)\n",
        "\n",
        "# Create a feedforward neural network (MLP) model for classification\n",
        "model = keras.Sequential([\n",
        "    keras.layers.Input(shape=(X_train.shape[1],)),  # Input layer\n",
        "    keras.layers.Dense(128, activation='relu'),    # Hidden layer with 128 units and ReLU activation\n",
        "    keras.layers.Dense(64, activation='relu'),     # Hidden layer with 64 units and ReLU activation\n",
        "    keras.layers.Dense(num_classes, activation='softmax')  # Output layer for classification\n",
        "])\n",
        "\n",
        "# Compile the model with categorical cross-entropy loss and accuracy metric\n",
        "model.compile(optimizer='adam', loss='categorical_crossentropy', metrics=['accuracy'])\n",
        "\n",
        "# Train the model\n",
        "model.fit(X_train, y_train, epochs=50, batch_size=32, validation_split=0.2)\n",
        "\n",
        "# Evaluate the model using accuracy\n",
        "accuracy = model.evaluate(X_test, y_test, verbose=0)[1]\n",
        "print(f\"Accuracy: {accuracy}\")\n",
        "\n",
        "# Make predictions on new data\n",
        "predictions = model.predict(new_data)\n"
      ],
      "metadata": {
        "colab": {
          "base_uri": "https://localhost:8080/",
          "height": 480
        },
        "id": "i1XrjfpgWbvx",
        "outputId": "3a5226ca-f4ce-4584-f3da-1a5f76b5d61a"
      },
      "execution_count": null,
      "outputs": [
        {
          "output_type": "stream",
          "name": "stderr",
          "text": [
            "/usr/local/lib/python3.10/dist-packages/sklearn/preprocessing/_encoders.py:868: FutureWarning:\n",
            "\n",
            "`sparse` was renamed to `sparse_output` in version 1.2 and will be removed in 1.4. `sparse_output` is ignored unless you leave `sparse` to its default value.\n",
            "\n"
          ]
        },
        {
          "output_type": "error",
          "ename": "ValueError",
          "evalue": "ignored",
          "traceback": [
            "\u001b[0;31m---------------------------------------------------------------------------\u001b[0m",
            "\u001b[0;31mValueError\u001b[0m                                Traceback (most recent call last)",
            "\u001b[0;32m<ipython-input-67-c8fe7c35f18b>\u001b[0m in \u001b[0;36m<cell line: 20>\u001b[0;34m()\u001b[0m\n\u001b[1;32m     18\u001b[0m \u001b[0;34m\u001b[0m\u001b[0m\n\u001b[1;32m     19\u001b[0m \u001b[0;31m# Split the data into training and testing sets\u001b[0m\u001b[0;34m\u001b[0m\u001b[0;34m\u001b[0m\u001b[0m\n\u001b[0;32m---> 20\u001b[0;31m \u001b[0mX_train\u001b[0m\u001b[0;34m,\u001b[0m \u001b[0mX_test\u001b[0m\u001b[0;34m,\u001b[0m \u001b[0my_train\u001b[0m\u001b[0;34m,\u001b[0m \u001b[0my_test\u001b[0m \u001b[0;34m=\u001b[0m \u001b[0mtrain_test_split\u001b[0m\u001b[0;34m(\u001b[0m\u001b[0mX\u001b[0m\u001b[0;34m,\u001b[0m \u001b[0my_onehot\u001b[0m\u001b[0;34m,\u001b[0m \u001b[0mtest_size\u001b[0m\u001b[0;34m=\u001b[0m\u001b[0;36m0.2\u001b[0m\u001b[0;34m,\u001b[0m \u001b[0mrandom_state\u001b[0m\u001b[0;34m=\u001b[0m\u001b[0;36m42\u001b[0m\u001b[0;34m)\u001b[0m\u001b[0;34m\u001b[0m\u001b[0;34m\u001b[0m\u001b[0m\n\u001b[0m\u001b[1;32m     21\u001b[0m \u001b[0;34m\u001b[0m\u001b[0m\n\u001b[1;32m     22\u001b[0m \u001b[0;31m# Standardize the data (optional but recommended)\u001b[0m\u001b[0;34m\u001b[0m\u001b[0;34m\u001b[0m\u001b[0m\n",
            "\u001b[0;32m/usr/local/lib/python3.10/dist-packages/sklearn/model_selection/_split.py\u001b[0m in \u001b[0;36mtrain_test_split\u001b[0;34m(test_size, train_size, random_state, shuffle, stratify, *arrays)\u001b[0m\n\u001b[1;32m   2557\u001b[0m         \u001b[0;32mraise\u001b[0m \u001b[0mValueError\u001b[0m\u001b[0;34m(\u001b[0m\u001b[0;34m\"At least one array required as input\"\u001b[0m\u001b[0;34m)\u001b[0m\u001b[0;34m\u001b[0m\u001b[0;34m\u001b[0m\u001b[0m\n\u001b[1;32m   2558\u001b[0m \u001b[0;34m\u001b[0m\u001b[0m\n\u001b[0;32m-> 2559\u001b[0;31m     \u001b[0marrays\u001b[0m \u001b[0;34m=\u001b[0m \u001b[0mindexable\u001b[0m\u001b[0;34m(\u001b[0m\u001b[0;34m*\u001b[0m\u001b[0marrays\u001b[0m\u001b[0;34m)\u001b[0m\u001b[0;34m\u001b[0m\u001b[0;34m\u001b[0m\u001b[0m\n\u001b[0m\u001b[1;32m   2560\u001b[0m \u001b[0;34m\u001b[0m\u001b[0m\n\u001b[1;32m   2561\u001b[0m     \u001b[0mn_samples\u001b[0m \u001b[0;34m=\u001b[0m \u001b[0m_num_samples\u001b[0m\u001b[0;34m(\u001b[0m\u001b[0marrays\u001b[0m\u001b[0;34m[\u001b[0m\u001b[0;36m0\u001b[0m\u001b[0;34m]\u001b[0m\u001b[0;34m)\u001b[0m\u001b[0;34m\u001b[0m\u001b[0;34m\u001b[0m\u001b[0m\n",
            "\u001b[0;32m/usr/local/lib/python3.10/dist-packages/sklearn/utils/validation.py\u001b[0m in \u001b[0;36mindexable\u001b[0;34m(*iterables)\u001b[0m\n\u001b[1;32m    441\u001b[0m \u001b[0;34m\u001b[0m\u001b[0m\n\u001b[1;32m    442\u001b[0m     \u001b[0mresult\u001b[0m \u001b[0;34m=\u001b[0m \u001b[0;34m[\u001b[0m\u001b[0m_make_indexable\u001b[0m\u001b[0;34m(\u001b[0m\u001b[0mX\u001b[0m\u001b[0;34m)\u001b[0m \u001b[0;32mfor\u001b[0m \u001b[0mX\u001b[0m \u001b[0;32min\u001b[0m \u001b[0miterables\u001b[0m\u001b[0;34m]\u001b[0m\u001b[0;34m\u001b[0m\u001b[0;34m\u001b[0m\u001b[0m\n\u001b[0;32m--> 443\u001b[0;31m     \u001b[0mcheck_consistent_length\u001b[0m\u001b[0;34m(\u001b[0m\u001b[0;34m*\u001b[0m\u001b[0mresult\u001b[0m\u001b[0;34m)\u001b[0m\u001b[0;34m\u001b[0m\u001b[0;34m\u001b[0m\u001b[0m\n\u001b[0m\u001b[1;32m    444\u001b[0m     \u001b[0;32mreturn\u001b[0m \u001b[0mresult\u001b[0m\u001b[0;34m\u001b[0m\u001b[0;34m\u001b[0m\u001b[0m\n\u001b[1;32m    445\u001b[0m \u001b[0;34m\u001b[0m\u001b[0m\n",
            "\u001b[0;32m/usr/local/lib/python3.10/dist-packages/sklearn/utils/validation.py\u001b[0m in \u001b[0;36mcheck_consistent_length\u001b[0;34m(*arrays)\u001b[0m\n\u001b[1;32m    395\u001b[0m     \u001b[0muniques\u001b[0m \u001b[0;34m=\u001b[0m \u001b[0mnp\u001b[0m\u001b[0;34m.\u001b[0m\u001b[0munique\u001b[0m\u001b[0;34m(\u001b[0m\u001b[0mlengths\u001b[0m\u001b[0;34m)\u001b[0m\u001b[0;34m\u001b[0m\u001b[0;34m\u001b[0m\u001b[0m\n\u001b[1;32m    396\u001b[0m     \u001b[0;32mif\u001b[0m \u001b[0mlen\u001b[0m\u001b[0;34m(\u001b[0m\u001b[0muniques\u001b[0m\u001b[0;34m)\u001b[0m \u001b[0;34m>\u001b[0m \u001b[0;36m1\u001b[0m\u001b[0;34m:\u001b[0m\u001b[0;34m\u001b[0m\u001b[0;34m\u001b[0m\u001b[0m\n\u001b[0;32m--> 397\u001b[0;31m         raise ValueError(\n\u001b[0m\u001b[1;32m    398\u001b[0m             \u001b[0;34m\"Found input variables with inconsistent numbers of samples: %r\"\u001b[0m\u001b[0;34m\u001b[0m\u001b[0;34m\u001b[0m\u001b[0m\n\u001b[1;32m    399\u001b[0m             \u001b[0;34m%\u001b[0m \u001b[0;34m[\u001b[0m\u001b[0mint\u001b[0m\u001b[0;34m(\u001b[0m\u001b[0ml\u001b[0m\u001b[0;34m)\u001b[0m \u001b[0;32mfor\u001b[0m \u001b[0ml\u001b[0m \u001b[0;32min\u001b[0m \u001b[0mlengths\u001b[0m\u001b[0;34m]\u001b[0m\u001b[0;34m\u001b[0m\u001b[0;34m\u001b[0m\u001b[0m\n",
            "\u001b[0;31mValueError\u001b[0m: Found input variables with inconsistent numbers of samples: [280, 5]"
          ]
        }
      ]
    }
  ],
  "metadata": {
    "colab": {
      "provenance": [],
      "authorship_tag": "ABX9TyOSFtYPA6iFU6tE3VTubg4A",
      "include_colab_link": true
    },
    "kernelspec": {
      "display_name": "Python 3",
      "name": "python3"
    },
    "language_info": {
      "name": "python"
    }
  },
  "nbformat": 4,
  "nbformat_minor": 0
}